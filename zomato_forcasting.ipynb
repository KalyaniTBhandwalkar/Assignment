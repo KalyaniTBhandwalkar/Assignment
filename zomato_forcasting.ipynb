{
  "nbformat": 4,
  "nbformat_minor": 0,
  "metadata": {
    "colab": {
      "name": "zomato_forcasting.ipynb",
      "provenance": [],
      "authorship_tag": "ABX9TyO/gMxTj3d/+WZS9fRR6nZQ",
      "include_colab_link": true
    },
    "kernelspec": {
      "name": "python3",
      "display_name": "Python 3"
    },
    "language_info": {
      "name": "python"
    },
    "accelerator": "GPU",
    "gpuClass": "standard"
  },
  "cells": [
    {
      "cell_type": "markdown",
      "metadata": {
        "id": "view-in-github",
        "colab_type": "text"
      },
      "source": [
        "<a href=\"https://colab.research.google.com/github/KalyaniTBhandwalkar/Assignment/blob/main/zomato_forcasting.ipynb\" target=\"_parent\"><img src=\"https://colab.research.google.com/assets/colab-badge.svg\" alt=\"Open In Colab\"/></a>"
      ]
    },
    {
      "cell_type": "code",
      "source": [
        "pip install nsepy"
      ],
      "metadata": {
        "colab": {
          "base_uri": "https://localhost:8080/"
        },
        "id": "J5TscKOBL59e",
        "outputId": "cb71cbb6-8336-46ef-df22-585ec3610b21"
      },
      "execution_count": null,
      "outputs": [
        {
          "output_type": "stream",
          "name": "stdout",
          "text": [
            "Looking in indexes: https://pypi.org/simple, https://us-python.pkg.dev/colab-wheels/public/simple/\n",
            "Collecting nsepy\n",
            "  Downloading nsepy-0.8.tar.gz (33 kB)\n",
            "Requirement already satisfied: beautifulsoup4 in /usr/local/lib/python3.7/dist-packages (from nsepy) (4.6.3)\n",
            "Requirement already satisfied: requests in /usr/local/lib/python3.7/dist-packages (from nsepy) (2.23.0)\n",
            "Requirement already satisfied: numpy in /usr/local/lib/python3.7/dist-packages (from nsepy) (1.21.6)\n",
            "Requirement already satisfied: pandas in /usr/local/lib/python3.7/dist-packages (from nsepy) (1.3.5)\n",
            "Requirement already satisfied: six in /usr/local/lib/python3.7/dist-packages (from nsepy) (1.15.0)\n",
            "Requirement already satisfied: click in /usr/local/lib/python3.7/dist-packages (from nsepy) (7.1.2)\n",
            "Requirement already satisfied: lxml in /usr/local/lib/python3.7/dist-packages (from nsepy) (4.9.1)\n",
            "Requirement already satisfied: python-dateutil>=2.7.3 in /usr/local/lib/python3.7/dist-packages (from pandas->nsepy) (2.8.2)\n",
            "Requirement already satisfied: pytz>=2017.3 in /usr/local/lib/python3.7/dist-packages (from pandas->nsepy) (2022.1)\n",
            "Requirement already satisfied: chardet<4,>=3.0.2 in /usr/local/lib/python3.7/dist-packages (from requests->nsepy) (3.0.4)\n",
            "Requirement already satisfied: certifi>=2017.4.17 in /usr/local/lib/python3.7/dist-packages (from requests->nsepy) (2022.6.15)\n",
            "Requirement already satisfied: urllib3!=1.25.0,!=1.25.1,<1.26,>=1.21.1 in /usr/local/lib/python3.7/dist-packages (from requests->nsepy) (1.24.3)\n",
            "Requirement already satisfied: idna<3,>=2.5 in /usr/local/lib/python3.7/dist-packages (from requests->nsepy) (2.10)\n",
            "Building wheels for collected packages: nsepy\n",
            "  Building wheel for nsepy (setup.py) ... \u001b[?25l\u001b[?25hdone\n",
            "  Created wheel for nsepy: filename=nsepy-0.8-py3-none-any.whl size=36084 sha256=1b5c0194950af6a1b80255eeca20bbcc679715d6d4c90a210b8fa2ef7c94625d\n",
            "  Stored in directory: /root/.cache/pip/wheels/32/ab/d9/78ceea14cdf6de83376082b3cb0c2999fd77f823e35c47b9ec\n",
            "Successfully built nsepy\n",
            "Installing collected packages: nsepy\n",
            "Successfully installed nsepy-0.8\n"
          ]
        }
      ]
    },
    {
      "cell_type": "code",
      "execution_count": null,
      "metadata": {
        "id": "luZ1GuyRLwLY"
      },
      "outputs": [],
      "source": [
        "import nsepy\n",
        "from nsepy import get_history\n",
        "from datetime import date\n",
        "import pandas as pd\n",
        "import matplotlib.pyplot as plt\n",
        "from sklearn.preprocessing import LabelEncoder\n",
        "from sklearn import preprocessing\n",
        "import seaborn as sns\n",
        "from sklearn.tree import DecisionTreeClassifier\n",
        "from sklearn.neighbors import KNeighborsClassifier\n",
        "import numpy as np\n",
        "from datetime import date, timedelta\n",
        "import warnings\n",
        "warnings.filterwarnings(\"ignore\")"
      ]
    },
    {
      "cell_type": "code",
      "source": [
        "today=date.today()\n",
        "data = get_history(symbol=\"ZOMATO\",\n",
        "                        start=today - timedelta(days=2*365),\n",
        "                        end=today\n",
        "#                       index_col='Date',parse_dates=True\n",
        "                       )"
      ],
      "metadata": {
        "id": "Y24hzGjNLxWf"
      },
      "execution_count": null,
      "outputs": []
    },
    {
      "cell_type": "code",
      "source": [
        "today - timedelta(days=3*365)"
      ],
      "metadata": {
        "colab": {
          "base_uri": "https://localhost:8080/"
        },
        "id": "Ko01H11f0ijD",
        "outputId": "b927945a-e1c1-46cf-c420-bd3f7571294f"
      },
      "execution_count": null,
      "outputs": [
        {
          "output_type": "execute_result",
          "data": {
            "text/plain": [
              "datetime.date(2019, 8, 13)"
            ]
          },
          "metadata": {},
          "execution_count": 4
        }
      ]
    },
    {
      "cell_type": "code",
      "source": [
        "from datetime import date\n",
        "\n",
        "x=date.today()\n",
        "x"
      ],
      "metadata": {
        "colab": {
          "base_uri": "https://localhost:8080/"
        },
        "id": "Pu7n3iMCzfXY",
        "outputId": "f962f2ac-1b72-41e6-ada0-9f143c2c2e29"
      },
      "execution_count": null,
      "outputs": [
        {
          "output_type": "execute_result",
          "data": {
            "text/plain": [
              "datetime.date(2022, 8, 12)"
            ]
          },
          "metadata": {},
          "execution_count": 5
        }
      ]
    },
    {
      "cell_type": "code",
      "source": [
        "data.tail()"
      ],
      "metadata": {
        "colab": {
          "base_uri": "https://localhost:8080/",
          "height": 238
        },
        "id": "hwVnTCLF9P89",
        "outputId": "bd512a92-c12b-4c76-afdd-cdee47112840"
      },
      "execution_count": null,
      "outputs": [
        {
          "output_type": "execute_result",
          "data": {
            "text/plain": [
              "            Symbol Series  Prev Close   Open   High    Low   Last  Close  \\\n",
              "Date                                                                       \n",
              "2022-08-04  ZOMATO     EQ       55.45  55.75  58.65  54.50  56.80  57.85   \n",
              "2022-08-05  ZOMATO     EQ       57.85  57.90  59.15  53.25  55.00  54.60   \n",
              "2022-08-08  ZOMATO     EQ       54.60  54.70  56.20  54.20  55.55  55.45   \n",
              "2022-08-10  ZOMATO     EQ       55.45  56.20  56.55  54.50  56.00  55.95   \n",
              "2022-08-11  ZOMATO     EQ       55.95  56.90  58.15  56.35  57.95  57.90   \n",
              "\n",
              "             VWAP     Volume      Turnover  Trades Deliverable Volume  \\\n",
              "Date                                                                    \n",
              "2022-08-04  56.75  420183405  2.384730e+15  526837          103424932   \n",
              "2022-08-05  56.75  315019033  1.787742e+15  446431           85429025   \n",
              "2022-08-08  55.30  178185076  9.854513e+14  268717           50287328   \n",
              "2022-08-10  55.47  200699912  1.113321e+15  237333           81610785   \n",
              "2022-08-11  57.57  130942734  7.537821e+14  172279           49107610   \n",
              "\n",
              "            %Deliverble  \n",
              "Date                     \n",
              "2022-08-04       0.2461  \n",
              "2022-08-05       0.2712  \n",
              "2022-08-08       0.2822  \n",
              "2022-08-10       0.4066  \n",
              "2022-08-11       0.3750  "
            ],
            "text/html": [
              "\n",
              "  <div id=\"df-de4f83d0-beb8-4fc5-bfb1-a591189e6fb5\">\n",
              "    <div class=\"colab-df-container\">\n",
              "      <div>\n",
              "<style scoped>\n",
              "    .dataframe tbody tr th:only-of-type {\n",
              "        vertical-align: middle;\n",
              "    }\n",
              "\n",
              "    .dataframe tbody tr th {\n",
              "        vertical-align: top;\n",
              "    }\n",
              "\n",
              "    .dataframe thead th {\n",
              "        text-align: right;\n",
              "    }\n",
              "</style>\n",
              "<table border=\"1\" class=\"dataframe\">\n",
              "  <thead>\n",
              "    <tr style=\"text-align: right;\">\n",
              "      <th></th>\n",
              "      <th>Symbol</th>\n",
              "      <th>Series</th>\n",
              "      <th>Prev Close</th>\n",
              "      <th>Open</th>\n",
              "      <th>High</th>\n",
              "      <th>Low</th>\n",
              "      <th>Last</th>\n",
              "      <th>Close</th>\n",
              "      <th>VWAP</th>\n",
              "      <th>Volume</th>\n",
              "      <th>Turnover</th>\n",
              "      <th>Trades</th>\n",
              "      <th>Deliverable Volume</th>\n",
              "      <th>%Deliverble</th>\n",
              "    </tr>\n",
              "    <tr>\n",
              "      <th>Date</th>\n",
              "      <th></th>\n",
              "      <th></th>\n",
              "      <th></th>\n",
              "      <th></th>\n",
              "      <th></th>\n",
              "      <th></th>\n",
              "      <th></th>\n",
              "      <th></th>\n",
              "      <th></th>\n",
              "      <th></th>\n",
              "      <th></th>\n",
              "      <th></th>\n",
              "      <th></th>\n",
              "      <th></th>\n",
              "    </tr>\n",
              "  </thead>\n",
              "  <tbody>\n",
              "    <tr>\n",
              "      <th>2022-08-04</th>\n",
              "      <td>ZOMATO</td>\n",
              "      <td>EQ</td>\n",
              "      <td>55.45</td>\n",
              "      <td>55.75</td>\n",
              "      <td>58.65</td>\n",
              "      <td>54.50</td>\n",
              "      <td>56.80</td>\n",
              "      <td>57.85</td>\n",
              "      <td>56.75</td>\n",
              "      <td>420183405</td>\n",
              "      <td>2.384730e+15</td>\n",
              "      <td>526837</td>\n",
              "      <td>103424932</td>\n",
              "      <td>0.2461</td>\n",
              "    </tr>\n",
              "    <tr>\n",
              "      <th>2022-08-05</th>\n",
              "      <td>ZOMATO</td>\n",
              "      <td>EQ</td>\n",
              "      <td>57.85</td>\n",
              "      <td>57.90</td>\n",
              "      <td>59.15</td>\n",
              "      <td>53.25</td>\n",
              "      <td>55.00</td>\n",
              "      <td>54.60</td>\n",
              "      <td>56.75</td>\n",
              "      <td>315019033</td>\n",
              "      <td>1.787742e+15</td>\n",
              "      <td>446431</td>\n",
              "      <td>85429025</td>\n",
              "      <td>0.2712</td>\n",
              "    </tr>\n",
              "    <tr>\n",
              "      <th>2022-08-08</th>\n",
              "      <td>ZOMATO</td>\n",
              "      <td>EQ</td>\n",
              "      <td>54.60</td>\n",
              "      <td>54.70</td>\n",
              "      <td>56.20</td>\n",
              "      <td>54.20</td>\n",
              "      <td>55.55</td>\n",
              "      <td>55.45</td>\n",
              "      <td>55.30</td>\n",
              "      <td>178185076</td>\n",
              "      <td>9.854513e+14</td>\n",
              "      <td>268717</td>\n",
              "      <td>50287328</td>\n",
              "      <td>0.2822</td>\n",
              "    </tr>\n",
              "    <tr>\n",
              "      <th>2022-08-10</th>\n",
              "      <td>ZOMATO</td>\n",
              "      <td>EQ</td>\n",
              "      <td>55.45</td>\n",
              "      <td>56.20</td>\n",
              "      <td>56.55</td>\n",
              "      <td>54.50</td>\n",
              "      <td>56.00</td>\n",
              "      <td>55.95</td>\n",
              "      <td>55.47</td>\n",
              "      <td>200699912</td>\n",
              "      <td>1.113321e+15</td>\n",
              "      <td>237333</td>\n",
              "      <td>81610785</td>\n",
              "      <td>0.4066</td>\n",
              "    </tr>\n",
              "    <tr>\n",
              "      <th>2022-08-11</th>\n",
              "      <td>ZOMATO</td>\n",
              "      <td>EQ</td>\n",
              "      <td>55.95</td>\n",
              "      <td>56.90</td>\n",
              "      <td>58.15</td>\n",
              "      <td>56.35</td>\n",
              "      <td>57.95</td>\n",
              "      <td>57.90</td>\n",
              "      <td>57.57</td>\n",
              "      <td>130942734</td>\n",
              "      <td>7.537821e+14</td>\n",
              "      <td>172279</td>\n",
              "      <td>49107610</td>\n",
              "      <td>0.3750</td>\n",
              "    </tr>\n",
              "  </tbody>\n",
              "</table>\n",
              "</div>\n",
              "      <button class=\"colab-df-convert\" onclick=\"convertToInteractive('df-de4f83d0-beb8-4fc5-bfb1-a591189e6fb5')\"\n",
              "              title=\"Convert this dataframe to an interactive table.\"\n",
              "              style=\"display:none;\">\n",
              "        \n",
              "  <svg xmlns=\"http://www.w3.org/2000/svg\" height=\"24px\"viewBox=\"0 0 24 24\"\n",
              "       width=\"24px\">\n",
              "    <path d=\"M0 0h24v24H0V0z\" fill=\"none\"/>\n",
              "    <path d=\"M18.56 5.44l.94 2.06.94-2.06 2.06-.94-2.06-.94-.94-2.06-.94 2.06-2.06.94zm-11 1L8.5 8.5l.94-2.06 2.06-.94-2.06-.94L8.5 2.5l-.94 2.06-2.06.94zm10 10l.94 2.06.94-2.06 2.06-.94-2.06-.94-.94-2.06-.94 2.06-2.06.94z\"/><path d=\"M17.41 7.96l-1.37-1.37c-.4-.4-.92-.59-1.43-.59-.52 0-1.04.2-1.43.59L10.3 9.45l-7.72 7.72c-.78.78-.78 2.05 0 2.83L4 21.41c.39.39.9.59 1.41.59.51 0 1.02-.2 1.41-.59l7.78-7.78 2.81-2.81c.8-.78.8-2.07 0-2.86zM5.41 20L4 18.59l7.72-7.72 1.47 1.35L5.41 20z\"/>\n",
              "  </svg>\n",
              "      </button>\n",
              "      \n",
              "  <style>\n",
              "    .colab-df-container {\n",
              "      display:flex;\n",
              "      flex-wrap:wrap;\n",
              "      gap: 12px;\n",
              "    }\n",
              "\n",
              "    .colab-df-convert {\n",
              "      background-color: #E8F0FE;\n",
              "      border: none;\n",
              "      border-radius: 50%;\n",
              "      cursor: pointer;\n",
              "      display: none;\n",
              "      fill: #1967D2;\n",
              "      height: 32px;\n",
              "      padding: 0 0 0 0;\n",
              "      width: 32px;\n",
              "    }\n",
              "\n",
              "    .colab-df-convert:hover {\n",
              "      background-color: #E2EBFA;\n",
              "      box-shadow: 0px 1px 2px rgba(60, 64, 67, 0.3), 0px 1px 3px 1px rgba(60, 64, 67, 0.15);\n",
              "      fill: #174EA6;\n",
              "    }\n",
              "\n",
              "    [theme=dark] .colab-df-convert {\n",
              "      background-color: #3B4455;\n",
              "      fill: #D2E3FC;\n",
              "    }\n",
              "\n",
              "    [theme=dark] .colab-df-convert:hover {\n",
              "      background-color: #434B5C;\n",
              "      box-shadow: 0px 1px 3px 1px rgba(0, 0, 0, 0.15);\n",
              "      filter: drop-shadow(0px 1px 2px rgba(0, 0, 0, 0.3));\n",
              "      fill: #FFFFFF;\n",
              "    }\n",
              "  </style>\n",
              "\n",
              "      <script>\n",
              "        const buttonEl =\n",
              "          document.querySelector('#df-de4f83d0-beb8-4fc5-bfb1-a591189e6fb5 button.colab-df-convert');\n",
              "        buttonEl.style.display =\n",
              "          google.colab.kernel.accessAllowed ? 'block' : 'none';\n",
              "\n",
              "        async function convertToInteractive(key) {\n",
              "          const element = document.querySelector('#df-de4f83d0-beb8-4fc5-bfb1-a591189e6fb5');\n",
              "          const dataTable =\n",
              "            await google.colab.kernel.invokeFunction('convertToInteractive',\n",
              "                                                     [key], {});\n",
              "          if (!dataTable) return;\n",
              "\n",
              "          const docLinkHtml = 'Like what you see? Visit the ' +\n",
              "            '<a target=\"_blank\" href=https://colab.research.google.com/notebooks/data_table.ipynb>data table notebook</a>'\n",
              "            + ' to learn more about interactive tables.';\n",
              "          element.innerHTML = '';\n",
              "          dataTable['output_type'] = 'display_data';\n",
              "          await google.colab.output.renderOutput(dataTable, element);\n",
              "          const docLink = document.createElement('div');\n",
              "          docLink.innerHTML = docLinkHtml;\n",
              "          element.appendChild(docLink);\n",
              "        }\n",
              "      </script>\n",
              "    </div>\n",
              "  </div>\n",
              "  "
            ]
          },
          "metadata": {},
          "execution_count": 6
        }
      ]
    },
    {
      "cell_type": "code",
      "source": [
        "data.info()"
      ],
      "metadata": {
        "colab": {
          "base_uri": "https://localhost:8080/"
        },
        "id": "OpWlT_NGLzFt",
        "outputId": "7d27c0f9-cb74-47e8-81d1-1e2ae90c312b"
      },
      "execution_count": null,
      "outputs": [
        {
          "output_type": "stream",
          "name": "stdout",
          "text": [
            "<class 'pandas.core.frame.DataFrame'>\n",
            "Index: 263 entries, 2021-07-23 to 2022-08-11\n",
            "Data columns (total 14 columns):\n",
            " #   Column              Non-Null Count  Dtype  \n",
            "---  ------              --------------  -----  \n",
            " 0   Symbol              263 non-null    object \n",
            " 1   Series              263 non-null    object \n",
            " 2   Prev Close          263 non-null    float64\n",
            " 3   Open                263 non-null    float64\n",
            " 4   High                263 non-null    float64\n",
            " 5   Low                 263 non-null    float64\n",
            " 6   Last                263 non-null    float64\n",
            " 7   Close               263 non-null    float64\n",
            " 8   VWAP                263 non-null    float64\n",
            " 9   Volume              263 non-null    object \n",
            " 10  Turnover            263 non-null    float64\n",
            " 11  Trades              263 non-null    object \n",
            " 12  Deliverable Volume  263 non-null    object \n",
            " 13  %Deliverble         263 non-null    float64\n",
            "dtypes: float64(9), object(5)\n",
            "memory usage: 30.8+ KB\n"
          ]
        }
      ]
    },
    {
      "cell_type": "code",
      "source": [
        "data.describe()"
      ],
      "metadata": {
        "colab": {
          "base_uri": "https://localhost:8080/",
          "height": 300
        },
        "id": "1QRVd_pCL1DS",
        "outputId": "d260dd64-fb67-427d-997d-595b7392efc6"
      },
      "execution_count": null,
      "outputs": [
        {
          "output_type": "execute_result",
          "data": {
            "text/plain": [
              "       Prev Close        Open        High         Low        Last       Close  \\\n",
              "count  263.000000  263.000000  263.000000  263.000000  263.000000  263.000000   \n",
              "mean   102.957224  103.477376  105.780418  100.485171  102.885361  102.888403   \n",
              "std     35.127649   35.318778   35.925271   34.456644   35.181267   35.198324   \n",
              "min     41.650000   40.850000   44.400000   40.600000   41.600000   41.650000   \n",
              "25%     70.775000   71.375000   72.050000   68.850000   69.950000   70.350000   \n",
              "50%     94.200000   95.100000   97.850000   93.000000   94.600000   94.200000   \n",
              "75%    136.375000  136.875000  139.050000  133.150000  136.475000  136.375000   \n",
              "max    160.300000  161.150000  169.000000  154.250000  161.200000  160.300000   \n",
              "\n",
              "             VWAP      Turnover  %Deliverble  \n",
              "count  263.000000  2.630000e+02   263.000000  \n",
              "mean   103.030608  4.944275e+14     0.334006  \n",
              "std     35.206187  7.698227e+14     0.133159  \n",
              "min     43.290000  5.375542e+13     0.079300  \n",
              "25%     70.280000  1.554047e+14     0.240950  \n",
              "50%     94.340000  2.594185e+14     0.324800  \n",
              "75%    136.490000  5.262518e+14     0.416750  \n",
              "max    161.420000  8.625275e+15     0.685400  "
            ],
            "text/html": [
              "\n",
              "  <div id=\"df-c601ea5f-7e2b-499e-92ec-23ef5d4e6022\">\n",
              "    <div class=\"colab-df-container\">\n",
              "      <div>\n",
              "<style scoped>\n",
              "    .dataframe tbody tr th:only-of-type {\n",
              "        vertical-align: middle;\n",
              "    }\n",
              "\n",
              "    .dataframe tbody tr th {\n",
              "        vertical-align: top;\n",
              "    }\n",
              "\n",
              "    .dataframe thead th {\n",
              "        text-align: right;\n",
              "    }\n",
              "</style>\n",
              "<table border=\"1\" class=\"dataframe\">\n",
              "  <thead>\n",
              "    <tr style=\"text-align: right;\">\n",
              "      <th></th>\n",
              "      <th>Prev Close</th>\n",
              "      <th>Open</th>\n",
              "      <th>High</th>\n",
              "      <th>Low</th>\n",
              "      <th>Last</th>\n",
              "      <th>Close</th>\n",
              "      <th>VWAP</th>\n",
              "      <th>Turnover</th>\n",
              "      <th>%Deliverble</th>\n",
              "    </tr>\n",
              "  </thead>\n",
              "  <tbody>\n",
              "    <tr>\n",
              "      <th>count</th>\n",
              "      <td>263.000000</td>\n",
              "      <td>263.000000</td>\n",
              "      <td>263.000000</td>\n",
              "      <td>263.000000</td>\n",
              "      <td>263.000000</td>\n",
              "      <td>263.000000</td>\n",
              "      <td>263.000000</td>\n",
              "      <td>2.630000e+02</td>\n",
              "      <td>263.000000</td>\n",
              "    </tr>\n",
              "    <tr>\n",
              "      <th>mean</th>\n",
              "      <td>102.957224</td>\n",
              "      <td>103.477376</td>\n",
              "      <td>105.780418</td>\n",
              "      <td>100.485171</td>\n",
              "      <td>102.885361</td>\n",
              "      <td>102.888403</td>\n",
              "      <td>103.030608</td>\n",
              "      <td>4.944275e+14</td>\n",
              "      <td>0.334006</td>\n",
              "    </tr>\n",
              "    <tr>\n",
              "      <th>std</th>\n",
              "      <td>35.127649</td>\n",
              "      <td>35.318778</td>\n",
              "      <td>35.925271</td>\n",
              "      <td>34.456644</td>\n",
              "      <td>35.181267</td>\n",
              "      <td>35.198324</td>\n",
              "      <td>35.206187</td>\n",
              "      <td>7.698227e+14</td>\n",
              "      <td>0.133159</td>\n",
              "    </tr>\n",
              "    <tr>\n",
              "      <th>min</th>\n",
              "      <td>41.650000</td>\n",
              "      <td>40.850000</td>\n",
              "      <td>44.400000</td>\n",
              "      <td>40.600000</td>\n",
              "      <td>41.600000</td>\n",
              "      <td>41.650000</td>\n",
              "      <td>43.290000</td>\n",
              "      <td>5.375542e+13</td>\n",
              "      <td>0.079300</td>\n",
              "    </tr>\n",
              "    <tr>\n",
              "      <th>25%</th>\n",
              "      <td>70.775000</td>\n",
              "      <td>71.375000</td>\n",
              "      <td>72.050000</td>\n",
              "      <td>68.850000</td>\n",
              "      <td>69.950000</td>\n",
              "      <td>70.350000</td>\n",
              "      <td>70.280000</td>\n",
              "      <td>1.554047e+14</td>\n",
              "      <td>0.240950</td>\n",
              "    </tr>\n",
              "    <tr>\n",
              "      <th>50%</th>\n",
              "      <td>94.200000</td>\n",
              "      <td>95.100000</td>\n",
              "      <td>97.850000</td>\n",
              "      <td>93.000000</td>\n",
              "      <td>94.600000</td>\n",
              "      <td>94.200000</td>\n",
              "      <td>94.340000</td>\n",
              "      <td>2.594185e+14</td>\n",
              "      <td>0.324800</td>\n",
              "    </tr>\n",
              "    <tr>\n",
              "      <th>75%</th>\n",
              "      <td>136.375000</td>\n",
              "      <td>136.875000</td>\n",
              "      <td>139.050000</td>\n",
              "      <td>133.150000</td>\n",
              "      <td>136.475000</td>\n",
              "      <td>136.375000</td>\n",
              "      <td>136.490000</td>\n",
              "      <td>5.262518e+14</td>\n",
              "      <td>0.416750</td>\n",
              "    </tr>\n",
              "    <tr>\n",
              "      <th>max</th>\n",
              "      <td>160.300000</td>\n",
              "      <td>161.150000</td>\n",
              "      <td>169.000000</td>\n",
              "      <td>154.250000</td>\n",
              "      <td>161.200000</td>\n",
              "      <td>160.300000</td>\n",
              "      <td>161.420000</td>\n",
              "      <td>8.625275e+15</td>\n",
              "      <td>0.685400</td>\n",
              "    </tr>\n",
              "  </tbody>\n",
              "</table>\n",
              "</div>\n",
              "      <button class=\"colab-df-convert\" onclick=\"convertToInteractive('df-c601ea5f-7e2b-499e-92ec-23ef5d4e6022')\"\n",
              "              title=\"Convert this dataframe to an interactive table.\"\n",
              "              style=\"display:none;\">\n",
              "        \n",
              "  <svg xmlns=\"http://www.w3.org/2000/svg\" height=\"24px\"viewBox=\"0 0 24 24\"\n",
              "       width=\"24px\">\n",
              "    <path d=\"M0 0h24v24H0V0z\" fill=\"none\"/>\n",
              "    <path d=\"M18.56 5.44l.94 2.06.94-2.06 2.06-.94-2.06-.94-.94-2.06-.94 2.06-2.06.94zm-11 1L8.5 8.5l.94-2.06 2.06-.94-2.06-.94L8.5 2.5l-.94 2.06-2.06.94zm10 10l.94 2.06.94-2.06 2.06-.94-2.06-.94-.94-2.06-.94 2.06-2.06.94z\"/><path d=\"M17.41 7.96l-1.37-1.37c-.4-.4-.92-.59-1.43-.59-.52 0-1.04.2-1.43.59L10.3 9.45l-7.72 7.72c-.78.78-.78 2.05 0 2.83L4 21.41c.39.39.9.59 1.41.59.51 0 1.02-.2 1.41-.59l7.78-7.78 2.81-2.81c.8-.78.8-2.07 0-2.86zM5.41 20L4 18.59l7.72-7.72 1.47 1.35L5.41 20z\"/>\n",
              "  </svg>\n",
              "      </button>\n",
              "      \n",
              "  <style>\n",
              "    .colab-df-container {\n",
              "      display:flex;\n",
              "      flex-wrap:wrap;\n",
              "      gap: 12px;\n",
              "    }\n",
              "\n",
              "    .colab-df-convert {\n",
              "      background-color: #E8F0FE;\n",
              "      border: none;\n",
              "      border-radius: 50%;\n",
              "      cursor: pointer;\n",
              "      display: none;\n",
              "      fill: #1967D2;\n",
              "      height: 32px;\n",
              "      padding: 0 0 0 0;\n",
              "      width: 32px;\n",
              "    }\n",
              "\n",
              "    .colab-df-convert:hover {\n",
              "      background-color: #E2EBFA;\n",
              "      box-shadow: 0px 1px 2px rgba(60, 64, 67, 0.3), 0px 1px 3px 1px rgba(60, 64, 67, 0.15);\n",
              "      fill: #174EA6;\n",
              "    }\n",
              "\n",
              "    [theme=dark] .colab-df-convert {\n",
              "      background-color: #3B4455;\n",
              "      fill: #D2E3FC;\n",
              "    }\n",
              "\n",
              "    [theme=dark] .colab-df-convert:hover {\n",
              "      background-color: #434B5C;\n",
              "      box-shadow: 0px 1px 3px 1px rgba(0, 0, 0, 0.15);\n",
              "      filter: drop-shadow(0px 1px 2px rgba(0, 0, 0, 0.3));\n",
              "      fill: #FFFFFF;\n",
              "    }\n",
              "  </style>\n",
              "\n",
              "      <script>\n",
              "        const buttonEl =\n",
              "          document.querySelector('#df-c601ea5f-7e2b-499e-92ec-23ef5d4e6022 button.colab-df-convert');\n",
              "        buttonEl.style.display =\n",
              "          google.colab.kernel.accessAllowed ? 'block' : 'none';\n",
              "\n",
              "        async function convertToInteractive(key) {\n",
              "          const element = document.querySelector('#df-c601ea5f-7e2b-499e-92ec-23ef5d4e6022');\n",
              "          const dataTable =\n",
              "            await google.colab.kernel.invokeFunction('convertToInteractive',\n",
              "                                                     [key], {});\n",
              "          if (!dataTable) return;\n",
              "\n",
              "          const docLinkHtml = 'Like what you see? Visit the ' +\n",
              "            '<a target=\"_blank\" href=https://colab.research.google.com/notebooks/data_table.ipynb>data table notebook</a>'\n",
              "            + ' to learn more about interactive tables.';\n",
              "          element.innerHTML = '';\n",
              "          dataTable['output_type'] = 'display_data';\n",
              "          await google.colab.output.renderOutput(dataTable, element);\n",
              "          const docLink = document.createElement('div');\n",
              "          docLink.innerHTML = docLinkHtml;\n",
              "          element.appendChild(docLink);\n",
              "        }\n",
              "      </script>\n",
              "    </div>\n",
              "  </div>\n",
              "  "
            ]
          },
          "metadata": {},
          "execution_count": 8
        }
      ]
    },
    {
      "cell_type": "code",
      "source": [
        "data.nunique()"
      ],
      "metadata": {
        "colab": {
          "base_uri": "https://localhost:8080/"
        },
        "id": "bGeuYrb0L27d",
        "outputId": "ed0c68ee-314d-4bb3-965f-65e188148171"
      },
      "execution_count": null,
      "outputs": [
        {
          "output_type": "execute_result",
          "data": {
            "text/plain": [
              "Symbol                  1\n",
              "Series                  1\n",
              "Prev Close            238\n",
              "Open                  221\n",
              "High                  227\n",
              "Low                   221\n",
              "Last                  234\n",
              "Close                 238\n",
              "VWAP                  255\n",
              "Volume                263\n",
              "Turnover              263\n",
              "Trades                263\n",
              "Deliverable Volume    263\n",
              "%Deliverble           255\n",
              "dtype: int64"
            ]
          },
          "metadata": {},
          "execution_count": 9
        }
      ]
    },
    {
      "cell_type": "code",
      "source": [
        "corr_matrix = data.corr().abs()\n",
        "plt.figure(figsize=(5,5))\n",
        "ax = sns.heatmap(corr_matrix,annot=True)"
      ],
      "metadata": {
        "colab": {
          "base_uri": "https://localhost:8080/",
          "height": 374
        },
        "id": "YlJd_19LL_UD",
        "outputId": "f4a6af12-1f6c-4df3-f67c-33ddaefd9e57"
      },
      "execution_count": null,
      "outputs": [
        {
          "output_type": "display_data",
          "data": {
            "text/plain": [
              "<Figure size 360x360 with 2 Axes>"
            ],
            "image/png": "[encoded data removed]"
          },
          "metadata": {
            "needs_background": "light"
          }
        }
      ]
    },
    {
      "cell_type": "code",
      "source": [
        "\n",
        "fig, ax = plt.subplots(figsize=(15,6))\n",
        "#ax.set_facecolor('#000041')\n",
        "ax.plot(data['High'], color='red', label='High')\n",
        "plt.plot(data['Low'], color='blue', label='Low')\n",
        "plt.gca().set(title='High and Low Share Price', xlabel='Date', ylabel='Share Price')\n",
        "plt.legend()\n",
        "plt.show()"
      ],
      "metadata": {
        "colab": {
          "base_uri": "https://localhost:8080/",
          "height": 404
        },
        "id": "YbXCPXO4MCAB",
        "outputId": "3ced016b-7ab1-4581-b566-dce709ca35d1"
      },
      "execution_count": null,
      "outputs": [
        {
          "output_type": "display_data",
          "data": {
            "text/plain": [
              "<Figure size 1080x432 with 1 Axes>"
            ],
            "image/png": "[encoded data removed]"
          },
          "metadata": {
            "needs_background": "light"
          }
        }
      ]
    },
    {
      "cell_type": "code",
      "source": [
        "split_fraction = 0.715\n",
        "train_split = int(split_fraction * int(data.shape[0]))\n",
        "train_split"
      ],
      "metadata": {
        "colab": {
          "base_uri": "https://localhost:8080/"
        },
        "id": "GdCUsvWqMELh",
        "outputId": "96db1aa2-5a6c-4541-9b4a-fbb5d4ec24db"
      },
      "execution_count": null,
      "outputs": [
        {
          "output_type": "execute_result",
          "data": {
            "text/plain": [
              "188"
            ]
          },
          "metadata": {},
          "execution_count": 12
        }
      ]
    },
    {
      "cell_type": "code",
      "source": [
        "#data1=data.drop(labels=['Symbol','Series','Volume','Turnover','%Deliverble','Trades','Deliverable Volume'], axis=1)\n",
        "data1=data['Close']\n",
        "train_data=data1.iloc[:train_split-1]\n",
        "val_data=data1.iloc[train_split:]\n"
      ],
      "metadata": {
        "id": "wJyH-we6MKn8"
      },
      "execution_count": null,
      "outputs": []
    },
    {
      "cell_type": "code",
      "source": [
        "import sklearn\n",
        "from sklearn.preprocessing import MinMaxScaler"
      ],
      "metadata": {
        "id": "HwRxQZkRlXhj"
      },
      "execution_count": null,
      "outputs": []
    },
    {
      "cell_type": "code",
      "source": [
        "train_data=train_data.values.reshape(-1, 1)\n",
        "val_data=val_data.values.reshape(-1, 1)"
      ],
      "metadata": {
        "id": "Pe_m1NY3-qM2"
      },
      "execution_count": null,
      "outputs": []
    },
    {
      "cell_type": "code",
      "source": [
        "Scale=MinMaxScaler()\n",
        "Scale.fit(train_data)"
      ],
      "metadata": {
        "id": "2Jb3HXVblXG2",
        "colab": {
          "base_uri": "https://localhost:8080/"
        },
        "outputId": "3ff04a7c-f5d4-4cf0-9457-2a4d1aaf0a43"
      },
      "execution_count": null,
      "outputs": [
        {
          "output_type": "execute_result",
          "data": {
            "text/plain": [
              "MinMaxScaler()"
            ]
          },
          "metadata": {},
          "execution_count": 16
        }
      ]
    },
    {
      "cell_type": "code",
      "source": [
        "train_data_scale=Scale.transform(train_data)\n",
        "val_data_scale=Scale.transform(val_data)"
      ],
      "metadata": {
        "id": "1itFmbhB7sgf"
      },
      "execution_count": null,
      "outputs": []
    },
    {
      "cell_type": "code",
      "source": [
        ""
      ],
      "metadata": {
        "id": "TZIHkXk3vcYQ"
      },
      "execution_count": null,
      "outputs": []
    },
    {
      "cell_type": "code",
      "source": [
        ""
      ],
      "metadata": {
        "id": "bh3nfj8-vcSe"
      },
      "execution_count": null,
      "outputs": []
    },
    {
      "cell_type": "code",
      "source": [
        "from keras.models import Sequential\n",
        "from keras.layers import Dense\n",
        "from keras.layers import LSTM\n",
        "from keras.preprocessing.sequence import TimeseriesGenerator\n",
        "\n",
        "n_input = 2\n",
        "n_features = 1\n",
        "\n",
        "generator = TimeseriesGenerator(train_data_scale, train_data_scale, length=n_input, batch_size=1)\n",
        "X,y = generator[0]\n",
        "print(f'Given the Array: \\n{X.flatten()}')\n",
        "print(f'Predict this y: \\n {y}')\n",
        "# define model\n",
        "\n",
        "\n",
        "# define model\n",
        "model = Sequential()\n",
        "model.add(LSTM(50, activation='relu', input_shape=(n_input, n_features)))\n",
        "model.add(Dense(1))\n",
        "model.compile(optimizer='adam', loss='mse')\n",
        "\n",
        "model.summary()\n",
        "# fit model\n",
        "model.fit(generator,epochs=10)"
      ],
      "metadata": {
        "id": "cFdXto96n6Eo",
        "colab": {
          "base_uri": "https://localhost:8080/"
        },
        "outputId": "42122430-a8f5-44ce-8ceb-c84fce5ea7f1"
      },
      "execution_count": null,
      "outputs": [
        {
          "output_type": "stream",
          "name": "stdout",
          "text": [
            "Given the Array: \n",
            "[0.593361   0.76704209]\n",
            "Predict this y: \n",
            " [[0.67516301]]\n"
          ]
        },
        {
          "output_type": "stream",
          "name": "stderr",
          "text": [
            "WARNING:tensorflow:Layer lstm will not use cuDNN kernels since it doesn't meet the criteria. It will use a generic GPU kernel as fallback when running on GPU.\n"
          ]
        },
        {
          "output_type": "stream",
          "name": "stdout",
          "text": [
            "Model: \"sequential\"\n",
            "_________________________________________________________________\n",
            " Layer (type)                Output Shape              Param #   \n",
            "=================================================================\n",
            " lstm (LSTM)                 (None, 50)                10400     \n",
            "                                                                 \n",
            " dense (Dense)               (None, 1)                 51        \n",
            "                                                                 \n",
            "=================================================================\n",
            "Total params: 10,451\n",
            "Trainable params: 10,451\n",
            "Non-trainable params: 0\n",
            "_________________________________________________________________\n",
            "Epoch 1/10\n",
            "185/185 [==============================] - 5s 7ms/step - loss: 0.1259\n",
            "Epoch 2/10\n",
            "185/185 [==============================] - 1s 8ms/step - loss: 0.0102\n",
            "Epoch 3/10\n",
            "185/185 [==============================] - 3s 15ms/step - loss: 0.0040\n",
            "Epoch 4/10\n",
            "185/185 [==============================] - 3s 15ms/step - loss: 0.0035\n",
            "Epoch 5/10\n",
            "185/185 [==============================] - 3s 17ms/step - loss: 0.0036\n",
            "Epoch 6/10\n",
            "185/185 [==============================] - 3s 16ms/step - loss: 0.0034\n",
            "Epoch 7/10\n",
            "185/185 [==============================] - 3s 15ms/step - loss: 0.0034\n",
            "Epoch 8/10\n",
            "185/185 [==============================] - 3s 14ms/step - loss: 0.0035\n",
            "Epoch 9/10\n",
            "185/185 [==============================] - 1s 7ms/step - loss: 0.0034\n",
            "Epoch 10/10\n",
            "185/185 [==============================] - 1s 7ms/step - loss: 0.0033\n"
          ]
        },
        {
          "output_type": "execute_result",
          "data": {
            "text/plain": [
              "<keras.callbacks.History at 0x7f9ef0556f50>"
            ]
          },
          "metadata": {},
          "execution_count": 18
        }
      ]
    },
    {
      "cell_type": "code",
      "source": [
        "loss_per_epoch = model.history.history['loss']\n",
        "plt.plot(range(len(loss_per_epoch)),loss_per_epoch)"
      ],
      "metadata": {
        "id": "leCA2G6SSGQS",
        "colab": {
          "base_uri": "https://localhost:8080/",
          "height": 283
        },
        "outputId": "e3628acd-8c06-41cb-a67a-ca2e7e45c464"
      },
      "execution_count": null,
      "outputs": [
        {
          "output_type": "execute_result",
          "data": {
            "text/plain": [
              "[<matplotlib.lines.Line2D at 0x7f9ef0489f10>]"
            ]
          },
          "metadata": {},
          "execution_count": 19
        },
        {
          "output_type": "display_data",
          "data": {
            "text/plain": [
              "<Figure size 432x288 with 1 Axes>"
            ],
            "image/png": "[encoded data removed]"
          },
          "metadata": {
            "needs_background": "light"
          }
        }
      ]
    },
    {
      "cell_type": "code",
      "source": [
        "last_train_batch = train_data_scale[-2:]"
      ],
      "metadata": {
        "id": "ANYGE9E8GbQ7"
      },
      "execution_count": null,
      "outputs": []
    },
    {
      "cell_type": "code",
      "source": [
        "last_train_batch = last_train_batch.reshape((1, n_input, n_features))"
      ],
      "metadata": {
        "id": "a5aUGHEzGz_n"
      },
      "execution_count": null,
      "outputs": []
    },
    {
      "cell_type": "code",
      "source": [
        "model.predict(last_train_batch)"
      ],
      "metadata": {
        "colab": {
          "base_uri": "https://localhost:8080/"
        },
        "id": "3irosvLrG4ql",
        "outputId": "26455364-9753-4f80-9a15-922a79d65d4e"
      },
      "execution_count": null,
      "outputs": [
        {
          "output_type": "execute_result",
          "data": {
            "text/plain": [
              "array([[0.06026916]], dtype=float32)"
            ]
          },
          "metadata": {},
          "execution_count": 22
        }
      ]
    },
    {
      "cell_type": "code",
      "source": [
        "val_data_scale[0]"
      ],
      "metadata": {
        "colab": {
          "base_uri": "https://localhost:8080/"
        },
        "id": "p6NPs4oSG6RR",
        "outputId": "d0166e2a-8a64-4720-f160-afebc7327fec"
      },
      "execution_count": null,
      "outputs": [
        {
          "output_type": "execute_result",
          "data": {
            "text/plain": [
              "array([-0.00118554])"
            ]
          },
          "metadata": {},
          "execution_count": 23
        }
      ]
    },
    {
      "cell_type": "code",
      "source": [
        ""
      ],
      "metadata": {
        "id": "yNukIK2jHsU3"
      },
      "execution_count": null,
      "outputs": []
    },
    {
      "cell_type": "code",
      "source": [
        "test_predictions = []\n",
        "\n",
        "first_eval_batch = train_data_scale[-n_input:]\n",
        "current_batch = first_eval_batch.reshape((1, n_input, n_features))\n",
        "\n",
        "for i in range(len(val_data)):\n",
        "    \n",
        "    # get the prediction value for the first batch\n",
        "    current_pred = model.predict(current_batch)[0]\n",
        "    \n",
        "    # append the prediction into the array\n",
        "    test_predictions.append(current_pred) \n",
        "    \n",
        "    # use the prediction to update the batch and remove the first value\n",
        "    current_batch = np.append(current_batch[:,1:,:],[[current_pred]],axis=1)"
      ],
      "metadata": {
        "id": "AcivalsBG78K"
      },
      "execution_count": null,
      "outputs": []
    },
    {
      "cell_type": "code",
      "source": [
        "val_data=data1.iloc[train_split:]"
      ],
      "metadata": {
        "id": "MfCD53MpH0SO"
      },
      "execution_count": null,
      "outputs": []
    },
    {
      "cell_type": "code",
      "source": [
        "#val_data.head()\n",
        "Result=pd.DataFrame(columns=['Close','Predicted'])\n",
        "Result['Close']=data['Close'].iloc[train_split:]"
      ],
      "metadata": {
        "id": "PMaXHfEXIR9J"
      },
      "execution_count": null,
      "outputs": []
    },
    {
      "cell_type": "code",
      "source": [
        "true_predictions = Scale.inverse_transform(test_predictions)\n",
        " "
      ],
      "metadata": {
        "id": "TZEJSZ3eHP2O"
      },
      "execution_count": null,
      "outputs": []
    },
    {
      "cell_type": "code",
      "source": [
        "\n",
        "val_data['Predictions'] = true_predictions\n",
        "Result['Predicted']=true_predictions"
      ],
      "metadata": {
        "id": "5_yOFcxeHTTn"
      },
      "execution_count": null,
      "outputs": []
    },
    {
      "cell_type": "code",
      "source": [
        "Result.tail()"
      ],
      "metadata": {
        "id": "HoSTfPq0Hk79",
        "colab": {
          "base_uri": "https://localhost:8080/",
          "height": 238
        },
        "outputId": "06f5444b-0e51-4d43-8a78-4b3fda05f422"
      },
      "execution_count": null,
      "outputs": [
        {
          "output_type": "execute_result",
          "data": {
            "text/plain": [
              "            Close  Predicted\n",
              "Date                        \n",
              "2022-08-04  57.85  87.441973\n",
              "2022-08-05  54.60  87.445476\n",
              "2022-08-08  55.45  87.448752\n",
              "2022-08-10  55.95  87.451821\n",
              "2022-08-11  57.90  87.454693"
            ],
            "text/html": [
              "\n",
              "  <div id=\"df-f53ea78a-6401-4bb0-b5cd-df48b0319e00\">\n",
              "    <div class=\"colab-df-container\">\n",
              "      <div>\n",
              "<style scoped>\n",
              "    .dataframe tbody tr th:only-of-type {\n",
              "        vertical-align: middle;\n",
              "    }\n",
              "\n",
              "    .dataframe tbody tr th {\n",
              "        vertical-align: top;\n",
              "    }\n",
              "\n",
              "    .dataframe thead th {\n",
              "        text-align: right;\n",
              "    }\n",
              "</style>\n",
              "<table border=\"1\" class=\"dataframe\">\n",
              "  <thead>\n",
              "    <tr style=\"text-align: right;\">\n",
              "      <th></th>\n",
              "      <th>Close</th>\n",
              "      <th>Predicted</th>\n",
              "    </tr>\n",
              "    <tr>\n",
              "      <th>Date</th>\n",
              "      <th></th>\n",
              "      <th></th>\n",
              "    </tr>\n",
              "  </thead>\n",
              "  <tbody>\n",
              "    <tr>\n",
              "      <th>2022-08-04</th>\n",
              "      <td>57.85</td>\n",
              "      <td>87.441973</td>\n",
              "    </tr>\n",
              "    <tr>\n",
              "      <th>2022-08-05</th>\n",
              "      <td>54.60</td>\n",
              "      <td>87.445476</td>\n",
              "    </tr>\n",
              "    <tr>\n",
              "      <th>2022-08-08</th>\n",
              "      <td>55.45</td>\n",
              "      <td>87.448752</td>\n",
              "    </tr>\n",
              "    <tr>\n",
              "      <th>2022-08-10</th>\n",
              "      <td>55.95</td>\n",
              "      <td>87.451821</td>\n",
              "    </tr>\n",
              "    <tr>\n",
              "      <th>2022-08-11</th>\n",
              "      <td>57.90</td>\n",
              "      <td>87.454693</td>\n",
              "    </tr>\n",
              "  </tbody>\n",
              "</table>\n",
              "</div>\n",
              "      <button class=\"colab-df-convert\" onclick=\"convertToInteractive('df-f53ea78a-6401-4bb0-b5cd-df48b0319e00')\"\n",
              "              title=\"Convert this dataframe to an interactive table.\"\n",
              "              style=\"display:none;\">\n",
              "        \n",
              "  <svg xmlns=\"http://www.w3.org/2000/svg\" height=\"24px\"viewBox=\"0 0 24 24\"\n",
              "       width=\"24px\">\n",
              "    <path d=\"M0 0h24v24H0V0z\" fill=\"none\"/>\n",
              "    <path d=\"M18.56 5.44l.94 2.06.94-2.06 2.06-.94-2.06-.94-.94-2.06-.94 2.06-2.06.94zm-11 1L8.5 8.5l.94-2.06 2.06-.94-2.06-.94L8.5 2.5l-.94 2.06-2.06.94zm10 10l.94 2.06.94-2.06 2.06-.94-2.06-.94-.94-2.06-.94 2.06-2.06.94z\"/><path d=\"M17.41 7.96l-1.37-1.37c-.4-.4-.92-.59-1.43-.59-.52 0-1.04.2-1.43.59L10.3 9.45l-7.72 7.72c-.78.78-.78 2.05 0 2.83L4 21.41c.39.39.9.59 1.41.59.51 0 1.02-.2 1.41-.59l7.78-7.78 2.81-2.81c.8-.78.8-2.07 0-2.86zM5.41 20L4 18.59l7.72-7.72 1.47 1.35L5.41 20z\"/>\n",
              "  </svg>\n",
              "      </button>\n",
              "      \n",
              "  <style>\n",
              "    .colab-df-container {\n",
              "      display:flex;\n",
              "      flex-wrap:wrap;\n",
              "      gap: 12px;\n",
              "    }\n",
              "\n",
              "    .colab-df-convert {\n",
              "      background-color: #E8F0FE;\n",
              "      border: none;\n",
              "      border-radius: 50%;\n",
              "      cursor: pointer;\n",
              "      display: none;\n",
              "      fill: #1967D2;\n",
              "      height: 32px;\n",
              "      padding: 0 0 0 0;\n",
              "      width: 32px;\n",
              "    }\n",
              "\n",
              "    .colab-df-convert:hover {\n",
              "      background-color: #E2EBFA;\n",
              "      box-shadow: 0px 1px 2px rgba(60, 64, 67, 0.3), 0px 1px 3px 1px rgba(60, 64, 67, 0.15);\n",
              "      fill: #174EA6;\n",
              "    }\n",
              "\n",
              "    [theme=dark] .colab-df-convert {\n",
              "      background-color: #3B4455;\n",
              "      fill: #D2E3FC;\n",
              "    }\n",
              "\n",
              "    [theme=dark] .colab-df-convert:hover {\n",
              "      background-color: #434B5C;\n",
              "      box-shadow: 0px 1px 3px 1px rgba(0, 0, 0, 0.15);\n",
              "      filter: drop-shadow(0px 1px 2px rgba(0, 0, 0, 0.3));\n",
              "      fill: #FFFFFF;\n",
              "    }\n",
              "  </style>\n",
              "\n",
              "      <script>\n",
              "        const buttonEl =\n",
              "          document.querySelector('#df-f53ea78a-6401-4bb0-b5cd-df48b0319e00 button.colab-df-convert');\n",
              "        buttonEl.style.display =\n",
              "          google.colab.kernel.accessAllowed ? 'block' : 'none';\n",
              "\n",
              "        async function convertToInteractive(key) {\n",
              "          const element = document.querySelector('#df-f53ea78a-6401-4bb0-b5cd-df48b0319e00');\n",
              "          const dataTable =\n",
              "            await google.colab.kernel.invokeFunction('convertToInteractive',\n",
              "                                                     [key], {});\n",
              "          if (!dataTable) return;\n",
              "\n",
              "          const docLinkHtml = 'Like what you see? Visit the ' +\n",
              "            '<a target=\"_blank\" href=https://colab.research.google.com/notebooks/data_table.ipynb>data table notebook</a>'\n",
              "            + ' to learn more about interactive tables.';\n",
              "          element.innerHTML = '';\n",
              "          dataTable['output_type'] = 'display_data';\n",
              "          await google.colab.output.renderOutput(dataTable, element);\n",
              "          const docLink = document.createElement('div');\n",
              "          docLink.innerHTML = docLinkHtml;\n",
              "          element.appendChild(docLink);\n",
              "        }\n",
              "      </script>\n",
              "    </div>\n",
              "  </div>\n",
              "  "
            ]
          },
          "metadata": {},
          "execution_count": 29
        }
      ]
    },
    {
      "cell_type": "code",
      "source": [
        "Result.plot(figsize=(15,6))"
      ],
      "metadata": {
        "colab": {
          "base_uri": "https://localhost:8080/",
          "height": 406
        },
        "id": "-XuoDzL9uhrQ",
        "outputId": "5f8b2f74-fdce-4eae-f744-53e71140bece"
      },
      "execution_count": null,
      "outputs": [
        {
          "output_type": "execute_result",
          "data": {
            "text/plain": [
              "<matplotlib.axes._subplots.AxesSubplot at 0x7f9e82121450>"
            ]
          },
          "metadata": {},
          "execution_count": 30
        },
        {
          "output_type": "display_data",
          "data": {
            "text/plain": [
              "<Figure size 1080x432 with 1 Axes>"
            ],
            "image/png": "[encoded data removed]"
          },
          "metadata": {
            "needs_background": "light"
          }
        }
      ]
    },
    {
      "cell_type": "code",
      "source": [
        "#forecast\n",
        "forecast_batch = val_data_scale[-2:]\n",
        "forecast_batch = forecast_batch.reshape((1, n_input, n_features))\n",
        "forecast_predictions = []\n",
        "\n",
        "first_forecast_batch = val_data_scale[-n_input:]\n",
        "current_batch = first_forecast_batch.reshape((1, n_input, n_features))\n",
        "\n",
        "for i in range(7):\n",
        "    \n",
        "    # get the prediction value for the first batch\n",
        "    current_pred = model.predict(current_batch)[0]\n",
        "    \n",
        "    # append the prediction into the array\n",
        "    forecast_predictions.append(current_pred) \n",
        "    \n",
        "    # use the prediction to update the batch and remove the first value\n",
        "    current_batch = np.append(current_batch[:,1:,:],[[current_pred]],axis=1)\n",
        "\n",
        "true_predictions = Scale.inverse_transform(forecast_predictions)"
      ],
      "metadata": {
        "id": "MHRRcpCuuFIY"
      },
      "execution_count": null,
      "outputs": []
    },
    {
      "cell_type": "code",
      "source": [
        "true_predictions"
      ],
      "metadata": {
        "colab": {
          "base_uri": "https://localhost:8080/"
        },
        "id": "fB1jiye85eD2",
        "outputId": "80c23952-a43c-4ab6-ed54-fabc8528697a"
      },
      "execution_count": null,
      "outputs": [
        {
          "output_type": "execute_result",
          "data": {
            "text/plain": [
              "array([[65.35157429],\n",
              "       [66.87544549],\n",
              "       [69.92125224],\n",
              "       [71.56926528],\n",
              "       [73.4140848 ],\n",
              "       [74.77547361],\n",
              "       [76.06576231]])"
            ]
          },
          "metadata": {},
          "execution_count": 32
        }
      ]
    },
    {
      "cell_type": "code",
      "source": [
        ""
      ],
      "metadata": {
        "id": "TggfVGEJ7toS"
      },
      "execution_count": null,
      "outputs": []
    }
  ]
}