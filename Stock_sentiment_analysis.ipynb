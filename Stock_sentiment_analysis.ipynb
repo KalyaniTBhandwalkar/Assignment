{
  "cells": [
    {
      "cell_type": "markdown",
      "metadata": {
        "id": "view-in-github",
        "colab_type": "text"
      },
      "source": [
        "<a href=\"https://colab.research.google.com/github/KalyaniTBhandwalkar/Assignment/blob/main/Stock_sentiment_analysis.ipynb\" target=\"_parent\"><img src=\"https://colab.research.google.com/assets/colab-badge.svg\" alt=\"Open In Colab\"/></a>"
      ]
    },
    {
      "cell_type": "code",
      "execution_count": null,
      "id": "4b4eb211",
      "metadata": {
        "id": "4b4eb211",
        "outputId": "95381671-e288-4c0f-80c4-59905f849bda"
      },
      "outputs": [
        {
          "name": "stdout",
          "output_type": "stream",
          "text": [
            "Driver Class for National Stock Exchange (NSE)\n"
          ]
        }
      ],
      "source": [
        "\n",
        "import warnings\n",
        "warnings.filterwarnings(\"ignore\")\n",
        "from nsetools import Nse\n",
        "\n",
        "# Now, creating a Nse object\n",
        "\n",
        "nse = Nse()\n",
        "\n",
        "# printing the Nse object\n",
        "\n",
        "print(nse)"
      ]
    },
    {
      "cell_type": "code",
      "execution_count": null,
      "id": "14b55e0e",
      "metadata": {
        "id": "14b55e0e",
        "outputId": "241bf236-768b-4eff-b332-08d77beb381b"
      },
      "outputs": [
        {
          "name": "stdout",
          "output_type": "stream",
          "text": [
            "JSWSTEEL\n",
            "DIVISLAB\n",
            "HINDUNILVR\n",
            "CIPLA\n",
            "ASIANPAINT\n",
            "GRASIM\n",
            "KOTAKBANK\n",
            "NTPC\n",
            "SUNPHARMA\n",
            "TATACONSUM\n"
          ]
        }
      ],
      "source": [
        "top_gainers = nse.get_top_gainers(10)\n",
        "for i in  range(10):\n",
        "    \n",
        "    print(top_gainers[i]['symbol']) "
      ]
    },
    {
      "cell_type": "code",
      "execution_count": null,
      "id": "b4bed27c",
      "metadata": {
        "id": "b4bed27c",
        "outputId": "6ee5cf11-926b-40f9-b3e6-4bc6d63d4ec7"
      },
      "outputs": [
        {
          "name": "stdout",
          "output_type": "stream",
          "text": [
            "INDUSINDBK\n",
            "BHARTIARTL\n",
            "HDFC\n",
            "HDFCBANK\n",
            "RELIANCE\n",
            "APOLLOHOSP\n",
            "TCS\n",
            "HEROMOTOCO\n",
            "HCLTECH\n",
            "BAJAJFINSV\n"
          ]
        }
      ],
      "source": [
        "losers = nse.get_top_losers(10)\n",
        "for i in  range(10):\n",
        "    top=losers[i]['symbol']\n",
        "    print(losers[i]['symbol'])\n",
        "    "
      ]
    },
    {
      "cell_type": "code",
      "execution_count": null,
      "id": "22b286f6",
      "metadata": {
        "id": "22b286f6",
        "outputId": "1a2bb344-bb1d-4e03-94ee-c0d0c67dcf18"
      },
      "outputs": [
        {
          "name": "stderr",
          "output_type": "stream",
          "text": [
            "[nltk_data] Downloading package vader_lexicon to\n",
            "[nltk_data]     C:\\Users\\Kalyani\\AppData\\Roaming\\nltk_data...\n",
            "[nltk_data]   Package vader_lexicon is already up-to-date!\n"
          ]
        },
        {
          "data": {
            "text/plain": [
              "True"
            ]
          },
          "execution_count": 44,
          "metadata": {},
          "output_type": "execute_result"
        }
      ],
      "source": [
        "import numpy as np\n",
        "import pandas as pd\n",
        "import matplotlib.pyplot as plt\n",
        "import datetime as dt\n",
        "import re\n",
        "from wordcloud import WordCloud, STOPWORDS\n",
        "from nltk.sentiment.vader import SentimentIntensityAnalyzer\n",
        "import snscrape.modules.twitter as sntwitter\n",
        "import nltk\n",
        "\n",
        "nltk.download('vader_lexicon') #required for Sentiment Analysis\n"
      ]
    },
    {
      "cell_type": "markdown",
      "id": "212f5c04",
      "metadata": {
        "id": "212f5c04"
      },
      "source": [
        "# Sentiment analysis of tweets from Tweeter"
      ]
    },
    {
      "cell_type": "markdown",
      "id": "4da184c3",
      "metadata": {
        "id": "4da184c3"
      },
      "source": [
        "## Top gainer anf loser stocks"
      ]
    },
    {
      "cell_type": "code",
      "execution_count": null,
      "id": "cdaa6d50",
      "metadata": {
        "id": "cdaa6d50"
      },
      "outputs": [],
      "source": [
        "#Get user input\n",
        "\n",
        "def cleanTxt(text):\n",
        "    text = re.sub('@[A-Za-z0–9]+', '', text) #Removing @mentions\n",
        "    text = re.sub('#', '', text) # Removing '#' hash tag\n",
        "    text = re.sub('RT[\\s]+', '', text) # Removing RT\n",
        "    text = re.sub('https?:\\/\\/\\S+', '', text) # Removing hyperlink\n",
        "    return text\n",
        "def percentage(part,whole):\n",
        "    return 100 * float(part)/float(whole)\n",
        "def process(query):\n",
        "    #As long as the query is valid (not empty or equal to '#')...\n",
        "    if query != '':\n",
        "        noOfTweet = 100\n",
        "        if noOfTweet != '' :\n",
        "            noOfDays = 5\n",
        "            if noOfDays != '':\n",
        "                    #Creating list to append tweet data\n",
        "                    tweets_list = []\n",
        "                    now = dt.date.today()\n",
        "                    now = now.strftime('%Y-%m-%d')\n",
        "                    yesterday = dt.date.today() - dt.timedelta(days = int(noOfDays))\n",
        "                    yesterday = yesterday.strftime('%Y-%m-%d')\n",
        "                    for i,tweet in enumerate(sntwitter.TwitterSearchScraper(query + ' lang:en since:' +  yesterday + ' until:' + now + ' -filter:links -filter:replies').get_items()):\n",
        "                        if i > int(noOfTweet):\n",
        "                            break\n",
        "                        tweets_list.append([tweet.date, tweet.id, tweet.content, tweet.username])\n",
        "\n",
        "                #Creating a dataframe from the tweets list above \n",
        "                    df = pd.DataFrame(tweets_list, columns=['Datetime', 'Tweet Id', 'Text', 'Username'])\n",
        "                #applying this function to Text column of our dataframe\n",
        "                    df[\"Text\"] = df[\"Text\"].apply(cleanTxt)\n",
        "    #Assigning Initial Values\n",
        "    positive = 0\n",
        "    negative = 0\n",
        "    neutral = 0\n",
        "    #Creating empty lists\n",
        "    tweet_list1 = []\n",
        "    neutral_list = []\n",
        "    negative_list = []\n",
        "    positive_list = []\n",
        "\n",
        "    #Iterating over the tweets in the dataframe\n",
        "    for tweet in df['Text']:\n",
        "        tweet_list1.append(tweet)\n",
        "        analyzer = SentimentIntensityAnalyzer().polarity_scores(tweet)\n",
        "        neg = analyzer['neg']\n",
        "        neu = analyzer['neu']\n",
        "        pos = analyzer['pos']\n",
        "        comp = analyzer['compound']\n",
        "        if neg > pos:\n",
        "            negative_list.append(tweet) #appending the tweet that satisfies this condition\n",
        "            negative += 1 #increasing the count by 1\n",
        "        elif pos > neg:\n",
        "            positive_list.append(tweet) #appending the tweet that satisfies this condition\n",
        "            positive += 1 #increasing the count by 1\n",
        "        elif pos == neg:\n",
        "            neutral_list.append(tweet) #appending the tweet that satisfies this condition\n",
        "            neutral += 1 #increasing the count by 1 \n",
        "    positive_per = percentage(positive, len(df)) #percentage is the function defined above\n",
        "    negative_per = percentage(negative, len(df))\n",
        "    neutral_per = percentage(neutral, len(df))\n",
        "    return positive_per,negative_per,neutral_per,df\n",
        "\n",
        " # Top gain stock sentiment    \n",
        "for i in  range(5):\n",
        "    query=top_gainers[i]['symbol']\n",
        "positive_gain,negative_gain,neutral_gain,df1=process(query)\n",
        "\n",
        "# Top gain stock sentiment\n",
        "for i in  range(5):\n",
        "    query=losers[i]['symbol'] \n",
        "positive_loser,negative_loser,neutral_loser,df2=process(query)\n"
      ]
    },
    {
      "cell_type": "markdown",
      "id": "ab8deca8",
      "metadata": {
        "id": "ab8deca8"
      },
      "source": [
        "## Top loser stock"
      ]
    },
    {
      "cell_type": "code",
      "execution_count": null,
      "id": "279e9ca7",
      "metadata": {
        "id": "279e9ca7",
        "outputId": "ab80e271-5d24-4f36-8920-6ce64882a6b2"
      },
      "outputs": [
        {
          "data": {
            "image/png": "[encoded data removed]",
            "text/plain": [
              "<Figure size 1440x360 with 2 Axes>"
            ]
          },
          "metadata": {},
          "output_type": "display_data"
        }
      ],
      "source": [
        "from matplotlib import pyplot as plt\n",
        "import numpy as np\n",
        "import seaborn as sns\n",
        "\n",
        "fig, axs = plt.subplots(1, 2, figsize=(20,5))\n",
        "\n",
        "\n",
        "sent_gain=[\"Positive\",\"Negative\",\"Neutral\"]\n",
        "per_gain=[positive_gain,negative_gain,neutral_gain]\n",
        "axs[0].pie(per_gain ,labels = sent_gain,  autopct = '%1.1f%%')\n",
        "axs[0].set_title('Sentiment analysis of Higest Gainer stock')\n",
        "\n",
        "sent_los=[\"Positive\",\"Negative\",\"Neutral\"]\n",
        "per_los=[positive_loser,negative_loser,neutral_loser]\n",
        "axs[1].pie(per_los,labels = sent_los,  autopct = '%1.1f%%')\n",
        "axs[1].set_title('Sentiment analysis of Higest loser stock')\n",
        "plt.show()\n"
      ]
    },
    {
      "cell_type": "markdown",
      "source": [
        "**Analysis:**\n",
        "1. As the data collected from NSE, \n",
        "   are\n",
        "\n",
        "*  Top gainer stocks\n",
        "  1.JSWSTEEL\n",
        "  2.DIVISLAB\n",
        "  3.HINDUNILVR\n",
        "  4.CIPLA\n",
        "  5.ASIANPAINT\n",
        "  6.GRASIM\n",
        "  7.KOTAKBANK\n",
        "  8.NTPC\n",
        "  9.SUNPHARMA\n",
        "  10.TATACONSUM\n",
        "*  Top Loser stocks\n",
        "  1.INDUSINDBK\n",
        "  2.BHARTIARTL\n",
        "  3.HDFC\n",
        "  4.HDFCBANK\n",
        "  5.RELIANCE\n",
        "  6.APOLLOHOSP\n",
        "  7.TCS\n",
        "  8.HEROMOTOCO\n",
        "  9.HCLTECH\n",
        "  10.BAJAJFINSV\n",
        "2. I have analysed the tweets from last five days to make sentimental analysis of the tweets related to top gainer and loser stocks.\n",
        "3. with reference to the data collected on 13/07/2022 ,\n",
        "The sentiment analysis is don and visualization is represented by using pie chart.\n",
        "\n",
        "\n",
        "\n",
        "  \n",
        "\n"
      ],
      "metadata": {
        "id": "WcTThoe5DpsJ"
      },
      "id": "WcTThoe5DpsJ"
    },
    {
      "cell_type": "code",
      "execution_count": null,
      "id": "c25ca7d5",
      "metadata": {
        "id": "c25ca7d5"
      },
      "outputs": [],
      "source": [
        ""
      ]
    }
  ],
  "metadata": {
    "kernelspec": {
      "display_name": "Python 3",
      "language": "python",
      "name": "python3"
    },
    "language_info": {
      "codemirror_mode": {
        "name": "ipython",
        "version": 3
      },
      "file_extension": ".py",
      "mimetype": "text/x-python",
      "name": "python",
      "nbconvert_exporter": "python",
      "pygments_lexer": "ipython3",
      "version": "3.8.8"
    },
    "colab": {
      "name": "Stock_sentiment_analysis.ipynb",
      "provenance": [],
      "include_colab_link": true
    }
  },
  "nbformat": 4,
  "nbformat_minor": 5
}