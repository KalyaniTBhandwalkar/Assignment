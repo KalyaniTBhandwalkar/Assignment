{
  "cells": [
    {
      "cell_type": "markdown",
      "metadata": {
        "id": "view-in-github",
        "colab_type": "text"
      },
      "source": [
        "<a href=\"https://colab.research.google.com/github/KalyaniTBhandwalkar/Assignment/blob/main/Audibook.ipynb\" target=\"_parent\"><img src=\"https://colab.research.google.com/assets/colab-badge.svg\" alt=\"Open In Colab\"/></a>"
      ]
    },
    {
      "cell_type": "code",
      "execution_count": null,
      "id": "bde03c3e",
      "metadata": {
        "id": "bde03c3e",
        "outputId": "acf5063d-8002-4a74-de30-aa6aebc10097"
      },
      "outputs": [
        {
          "name": "stdout",
          "output_type": "stream",
          "text": [
            "Collecting PyPDF2\n",
            "  Downloading PyPDF2-2.3.1-py3-none-any.whl (198 kB)\n",
            "Requirement already satisfied: typing-extensions in c:\\users\\kalyani\\anaconda3\\lib\\site-packages (from PyPDF2) (3.7.4.3)\n",
            "Installing collected packages: PyPDF2\n",
            "Successfully installed PyPDF2-2.3.1\n"
          ]
        }
      ],
      "source": [
        "!pip install PyPDF2"
      ]
    },
    {
      "cell_type": "code",
      "execution_count": null,
      "id": "99da0557",
      "metadata": {
        "id": "99da0557",
        "outputId": "960dff30-6673-44db-ad4c-592431044d1f"
      },
      "outputs": [
        {
          "name": "stdout",
          "output_type": "stream",
          "text": [
            "Collecting pyttsx3\n",
            "  Downloading pyttsx3-2.90-py3-none-any.whl (39 kB)\n",
            "Requirement already satisfied: comtypes in c:\\users\\kalyani\\anaconda3\\lib\\site-packages (from pyttsx3) (1.1.9)\n",
            "Collecting pypiwin32\n",
            "  Downloading pypiwin32-223-py3-none-any.whl (1.7 kB)\n",
            "Requirement already satisfied: pywin32 in c:\\users\\kalyani\\anaconda3\\lib\\site-packages (from pyttsx3) (227)\n",
            "Installing collected packages: pypiwin32, pyttsx3\n",
            "Successfully installed pypiwin32-223 pyttsx3-2.90\n"
          ]
        }
      ],
      "source": [
        "!pip install pyttsx3"
      ]
    },
    {
      "cell_type": "code",
      "execution_count": null,
      "id": "caeca95c",
      "metadata": {
        "id": "caeca95c"
      },
      "outputs": [],
      "source": [
        "from PyPDF2 import PdfReader\n",
        "import pyttsx3\n"
      ]
    },
    {
      "cell_type": "code",
      "execution_count": null,
      "id": "70f0267d",
      "metadata": {
        "id": "70f0267d",
        "outputId": "fd51be27-c5a2-440d-9784-12c19b2bcecc"
      },
      "outputs": [
        {
          "name": "stdout",
          "output_type": "stream",
          "text": [
            "Enter name of input file: KTB_resume.pdf\n"
          ]
        }
      ],
      "source": [
        "file = input(\"Enter name of input file: \")\n",
        "inputFile = open(file, \"rb\")\n",
        "\n",
        "reader = PdfReader(file)\n",
        "number_of_pages = reader.getNumPages()\n",
        "audi = pyttsx3.init()\n",
        "for i in range (1,number_of_pages):\n",
        "    # creating a page object\n",
        "    pageObj = reader.getPage(i)\n",
        "    # extracting text from page\n",
        "    text=pageObj.extractText()\n",
        "    audi.say(text)\n",
        "audi.runAndWait()\n",
        "    "
      ]
    },
    {
      "cell_type": "code",
      "execution_count": null,
      "id": "c69f2069",
      "metadata": {
        "id": "c69f2069"
      },
      "outputs": [],
      "source": [
        ""
      ]
    },
    {
      "cell_type": "code",
      "execution_count": null,
      "id": "b25b28fb",
      "metadata": {
        "id": "b25b28fb"
      },
      "outputs": [],
      "source": [
        ""
      ]
    }
  ],
  "metadata": {
    "kernelspec": {
      "display_name": "Python 3",
      "language": "python",
      "name": "python3"
    },
    "language_info": {
      "codemirror_mode": {
        "name": "ipython",
        "version": 3
      },
      "file_extension": ".py",
      "mimetype": "text/x-python",
      "name": "python",
      "nbconvert_exporter": "python",
      "pygments_lexer": "ipython3",
      "version": "3.8.8"
    },
    "colab": {
      "name": "Audibook.ipynb",
      "provenance": [],
      "include_colab_link": true
    }
  },
  "nbformat": 4,
  "nbformat_minor": 5
}