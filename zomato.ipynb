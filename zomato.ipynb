{
  "nbformat": 4,
  "nbformat_minor": 0,
  "metadata": {
    "colab": {
      "name": "zomato.ipynb",
      "provenance": [],
      "authorship_tag": "ABX9TyP3Eq6EsbeEJafgPXEP9/Hf",
      "include_colab_link": true
    },
    "kernelspec": {
      "name": "python3",
      "display_name": "Python 3"
    },
    "language_info": {
      "name": "python"
    }
  },
  "cells": [
    {
      "cell_type": "markdown",
      "metadata": {
        "id": "view-in-github",
        "colab_type": "text"
      },
      "source": [
        "<a href=\"https://colab.research.google.com/github/KalyaniTBhandwalkar/Assignment/blob/main/zomato.ipynb\" target=\"_parent\"><img src=\"https://colab.research.google.com/assets/colab-badge.svg\" alt=\"Open In Colab\"/></a>"
      ]
    },
    {
      "cell_type": "code",
      "source": [
        "pip install nsepy"
      ],
      "metadata": {
        "colab": {
          "base_uri": "https://localhost:8080/"
        },
        "id": "zcHUQBdWMMLn",
        "outputId": "040d051c-0d4a-4107-b826-176b19919bc4"
      },
      "execution_count": 222,
      "outputs": [
        {
          "output_type": "stream",
          "name": "stdout",
          "text": [
            "Looking in indexes: https://pypi.org/simple, https://us-python.pkg.dev/colab-wheels/public/simple/\n",
            "Requirement already satisfied: nsepy in /usr/local/lib/python3.7/dist-packages (0.8)\n",
            "Requirement already satisfied: beautifulsoup4 in /usr/local/lib/python3.7/dist-packages (from nsepy) (4.6.3)\n",
            "Requirement already satisfied: six in /usr/local/lib/python3.7/dist-packages (from nsepy) (1.15.0)\n",
            "Requirement already satisfied: pandas in /usr/local/lib/python3.7/dist-packages (from nsepy) (1.3.5)\n",
            "Requirement already satisfied: requests in /usr/local/lib/python3.7/dist-packages (from nsepy) (2.23.0)\n",
            "Requirement already satisfied: lxml in /usr/local/lib/python3.7/dist-packages (from nsepy) (4.9.1)\n",
            "Requirement already satisfied: click in /usr/local/lib/python3.7/dist-packages (from nsepy) (7.1.2)\n",
            "Requirement already satisfied: numpy in /usr/local/lib/python3.7/dist-packages (from nsepy) (1.21.6)\n",
            "Requirement already satisfied: python-dateutil>=2.7.3 in /usr/local/lib/python3.7/dist-packages (from pandas->nsepy) (2.8.2)\n",
            "Requirement already satisfied: pytz>=2017.3 in /usr/local/lib/python3.7/dist-packages (from pandas->nsepy) (2022.2.1)\n",
            "Requirement already satisfied: idna<3,>=2.5 in /usr/local/lib/python3.7/dist-packages (from requests->nsepy) (2.10)\n",
            "Requirement already satisfied: urllib3!=1.25.0,!=1.25.1,<1.26,>=1.21.1 in /usr/local/lib/python3.7/dist-packages (from requests->nsepy) (1.24.3)\n",
            "Requirement already satisfied: certifi>=2017.4.17 in /usr/local/lib/python3.7/dist-packages (from requests->nsepy) (2022.6.15)\n",
            "Requirement already satisfied: chardet<4,>=3.0.2 in /usr/local/lib/python3.7/dist-packages (from requests->nsepy) (3.0.4)\n"
          ]
        }
      ]
    },
    {
      "cell_type": "code",
      "source": [
        ""
      ],
      "metadata": {
        "id": "64qs9d_UNvgK"
      },
      "execution_count": 222,
      "outputs": []
    },
    {
      "cell_type": "code",
      "source": [
        "import nsepy\n",
        "from nsepy import get_history\n",
        "from datetime import date\n",
        "import pandas as pd\n",
        "import matplotlib.pyplot as plt\n",
        "from sklearn.preprocessing import LabelEncoder\n",
        "from sklearn import preprocessing\n",
        "import seaborn as sns\n",
        "from sklearn.tree import DecisionTreeClassifier\n",
        "from sklearn.neighbors import KNeighborsClassifier\n",
        "\n",
        "from datetime import date, timedelta\n",
        "import warnings\n",
        "warnings.filterwarnings(\"ignore\")"
      ],
      "metadata": {
        "id": "rcT1q5AtLxxm"
      },
      "execution_count": 223,
      "outputs": []
    },
    {
      "cell_type": "code",
      "source": [
        "today=date.today()\n",
        "data = get_history(symbol=\"ZOMATO\",\n",
        "                        start=today - timedelta(days=2*365),\n",
        "                        end=today\n",
        "#                       index_col='Date',parse_dates=True\n",
        "                       )"
      ],
      "metadata": {
        "id": "9_k9Psz0N8kX"
      },
      "execution_count": 224,
      "outputs": []
    },
    {
      "cell_type": "code",
      "source": [
        "data.tail()"
      ],
      "metadata": {
        "colab": {
          "base_uri": "https://localhost:8080/",
          "height": 238
        },
        "id": "0Iol0RqUPjoF",
        "outputId": "f602e528-7876-448a-a2fa-57cb4bb45f89"
      },
      "execution_count": 225,
      "outputs": [
        {
          "output_type": "execute_result",
          "data": {
            "text/plain": [
              "            Symbol Series  Prev Close  Open   High    Low   Last  Close  \\\n",
              "Date                                                                      \n",
              "2022-08-17  ZOMATO     EQ       64.25  64.8  65.60  61.80  65.30  65.25   \n",
              "2022-08-18  ZOMATO     EQ       65.25  65.6  69.25  65.00  66.65  67.10   \n",
              "2022-08-19  ZOMATO     EQ       67.10  67.4  68.25  60.15  61.30  61.45   \n",
              "2022-08-22  ZOMATO     EQ       61.45  61.0  62.85  59.25  62.45  62.00   \n",
              "2022-08-23  ZOMATO     EQ       62.00  62.3  65.25  62.15  63.95  64.45   \n",
              "\n",
              "             VWAP     Volume      Turnover  Trades Deliverable Volume  \\\n",
              "Date                                                                    \n",
              "2022-08-17  63.69  258066522  1.643583e+15  348652           76269708   \n",
              "2022-08-18  67.49  303566868  2.048622e+15  412117           86379133   \n",
              "2022-08-19  63.38  295737752  1.874394e+15  510653           83280440   \n",
              "2022-08-22  61.32  226773007  1.390576e+15  350276           38020392   \n",
              "2022-08-23  63.65  218585102  1.391313e+15  255044           74190848   \n",
              "\n",
              "            %Deliverble  \n",
              "Date                     \n",
              "2022-08-17       0.2955  \n",
              "2022-08-18       0.2845  \n",
              "2022-08-19       0.2816  \n",
              "2022-08-22       0.1677  \n",
              "2022-08-23       0.3394  "
            ],
            "text/html": [
              "\n",
              "  <div id=\"df-a863642c-0d69-40e0-83b7-2d266bf886f9\">\n",
              "    <div class=\"colab-df-container\">\n",
              "      <div>\n",
              "<style scoped>\n",
              "    .dataframe tbody tr th:only-of-type {\n",
              "        vertical-align: middle;\n",
              "    }\n",
              "\n",
              "    .dataframe tbody tr th {\n",
              "        vertical-align: top;\n",
              "    }\n",
              "\n",
              "    .dataframe thead th {\n",
              "        text-align: right;\n",
              "    }\n",
              "</style>\n",
              "<table border=\"1\" class=\"dataframe\">\n",
              "  <thead>\n",
              "    <tr style=\"text-align: right;\">\n",
              "      <th></th>\n",
              "      <th>Symbol</th>\n",
              "      <th>Series</th>\n",
              "      <th>Prev Close</th>\n",
              "      <th>Open</th>\n",
              "      <th>High</th>\n",
              "      <th>Low</th>\n",
              "      <th>Last</th>\n",
              "      <th>Close</th>\n",
              "      <th>VWAP</th>\n",
              "      <th>Volume</th>\n",
              "      <th>Turnover</th>\n",
              "      <th>Trades</th>\n",
              "      <th>Deliverable Volume</th>\n",
              "      <th>%Deliverble</th>\n",
              "    </tr>\n",
              "    <tr>\n",
              "      <th>Date</th>\n",
              "      <th></th>\n",
              "      <th></th>\n",
              "      <th></th>\n",
              "      <th></th>\n",
              "      <th></th>\n",
              "      <th></th>\n",
              "      <th></th>\n",
              "      <th></th>\n",
              "      <th></th>\n",
              "      <th></th>\n",
              "      <th></th>\n",
              "      <th></th>\n",
              "      <th></th>\n",
              "      <th></th>\n",
              "    </tr>\n",
              "  </thead>\n",
              "  <tbody>\n",
              "    <tr>\n",
              "      <th>2022-08-17</th>\n",
              "      <td>ZOMATO</td>\n",
              "      <td>EQ</td>\n",
              "      <td>64.25</td>\n",
              "      <td>64.8</td>\n",
              "      <td>65.60</td>\n",
              "      <td>61.80</td>\n",
              "      <td>65.30</td>\n",
              "      <td>65.25</td>\n",
              "      <td>63.69</td>\n",
              "      <td>258066522</td>\n",
              "      <td>1.643583e+15</td>\n",
              "      <td>348652</td>\n",
              "      <td>76269708</td>\n",
              "      <td>0.2955</td>\n",
              "    </tr>\n",
              "    <tr>\n",
              "      <th>2022-08-18</th>\n",
              "      <td>ZOMATO</td>\n",
              "      <td>EQ</td>\n",
              "      <td>65.25</td>\n",
              "      <td>65.6</td>\n",
              "      <td>69.25</td>\n",
              "      <td>65.00</td>\n",
              "      <td>66.65</td>\n",
              "      <td>67.10</td>\n",
              "      <td>67.49</td>\n",
              "      <td>303566868</td>\n",
              "      <td>2.048622e+15</td>\n",
              "      <td>412117</td>\n",
              "      <td>86379133</td>\n",
              "      <td>0.2845</td>\n",
              "    </tr>\n",
              "    <tr>\n",
              "      <th>2022-08-19</th>\n",
              "      <td>ZOMATO</td>\n",
              "      <td>EQ</td>\n",
              "      <td>67.10</td>\n",
              "      <td>67.4</td>\n",
              "      <td>68.25</td>\n",
              "      <td>60.15</td>\n",
              "      <td>61.30</td>\n",
              "      <td>61.45</td>\n",
              "      <td>63.38</td>\n",
              "      <td>295737752</td>\n",
              "      <td>1.874394e+15</td>\n",
              "      <td>510653</td>\n",
              "      <td>83280440</td>\n",
              "      <td>0.2816</td>\n",
              "    </tr>\n",
              "    <tr>\n",
              "      <th>2022-08-22</th>\n",
              "      <td>ZOMATO</td>\n",
              "      <td>EQ</td>\n",
              "      <td>61.45</td>\n",
              "      <td>61.0</td>\n",
              "      <td>62.85</td>\n",
              "      <td>59.25</td>\n",
              "      <td>62.45</td>\n",
              "      <td>62.00</td>\n",
              "      <td>61.32</td>\n",
              "      <td>226773007</td>\n",
              "      <td>1.390576e+15</td>\n",
              "      <td>350276</td>\n",
              "      <td>38020392</td>\n",
              "      <td>0.1677</td>\n",
              "    </tr>\n",
              "    <tr>\n",
              "      <th>2022-08-23</th>\n",
              "      <td>ZOMATO</td>\n",
              "      <td>EQ</td>\n",
              "      <td>62.00</td>\n",
              "      <td>62.3</td>\n",
              "      <td>65.25</td>\n",
              "      <td>62.15</td>\n",
              "      <td>63.95</td>\n",
              "      <td>64.45</td>\n",
              "      <td>63.65</td>\n",
              "      <td>218585102</td>\n",
              "      <td>1.391313e+15</td>\n",
              "      <td>255044</td>\n",
              "      <td>74190848</td>\n",
              "      <td>0.3394</td>\n",
              "    </tr>\n",
              "  </tbody>\n",
              "</table>\n",
              "</div>\n",
              "      <button class=\"colab-df-convert\" onclick=\"convertToInteractive('df-a863642c-0d69-40e0-83b7-2d266bf886f9')\"\n",
              "              title=\"Convert this dataframe to an interactive table.\"\n",
              "              style=\"display:none;\">\n",
              "        \n",
              "  <svg xmlns=\"http://www.w3.org/2000/svg\" height=\"24px\"viewBox=\"0 0 24 24\"\n",
              "       width=\"24px\">\n",
              "    <path d=\"M0 0h24v24H0V0z\" fill=\"none\"/>\n",
              "    <path d=\"M18.56 5.44l.94 2.06.94-2.06 2.06-.94-2.06-.94-.94-2.06-.94 2.06-2.06.94zm-11 1L8.5 8.5l.94-2.06 2.06-.94-2.06-.94L8.5 2.5l-.94 2.06-2.06.94zm10 10l.94 2.06.94-2.06 2.06-.94-2.06-.94-.94-2.06-.94 2.06-2.06.94z\"/><path d=\"M17.41 7.96l-1.37-1.37c-.4-.4-.92-.59-1.43-.59-.52 0-1.04.2-1.43.59L10.3 9.45l-7.72 7.72c-.78.78-.78 2.05 0 2.83L4 21.41c.39.39.9.59 1.41.59.51 0 1.02-.2 1.41-.59l7.78-7.78 2.81-2.81c.8-.78.8-2.07 0-2.86zM5.41 20L4 18.59l7.72-7.72 1.47 1.35L5.41 20z\"/>\n",
              "  </svg>\n",
              "      </button>\n",
              "      \n",
              "  <style>\n",
              "    .colab-df-container {\n",
              "      display:flex;\n",
              "      flex-wrap:wrap;\n",
              "      gap: 12px;\n",
              "    }\n",
              "\n",
              "    .colab-df-convert {\n",
              "      background-color: #E8F0FE;\n",
              "      border: none;\n",
              "      border-radius: 50%;\n",
              "      cursor: pointer;\n",
              "      display: none;\n",
              "      fill: #1967D2;\n",
              "      height: 32px;\n",
              "      padding: 0 0 0 0;\n",
              "      width: 32px;\n",
              "    }\n",
              "\n",
              "    .colab-df-convert:hover {\n",
              "      background-color: #E2EBFA;\n",
              "      box-shadow: 0px 1px 2px rgba(60, 64, 67, 0.3), 0px 1px 3px 1px rgba(60, 64, 67, 0.15);\n",
              "      fill: #174EA6;\n",
              "    }\n",
              "\n",
              "    [theme=dark] .colab-df-convert {\n",
              "      background-color: #3B4455;\n",
              "      fill: #D2E3FC;\n",
              "    }\n",
              "\n",
              "    [theme=dark] .colab-df-convert:hover {\n",
              "      background-color: #434B5C;\n",
              "      box-shadow: 0px 1px 3px 1px rgba(0, 0, 0, 0.15);\n",
              "      filter: drop-shadow(0px 1px 2px rgba(0, 0, 0, 0.3));\n",
              "      fill: #FFFFFF;\n",
              "    }\n",
              "  </style>\n",
              "\n",
              "      <script>\n",
              "        const buttonEl =\n",
              "          document.querySelector('#df-a863642c-0d69-40e0-83b7-2d266bf886f9 button.colab-df-convert');\n",
              "        buttonEl.style.display =\n",
              "          google.colab.kernel.accessAllowed ? 'block' : 'none';\n",
              "\n",
              "        async function convertToInteractive(key) {\n",
              "          const element = document.querySelector('#df-a863642c-0d69-40e0-83b7-2d266bf886f9');\n",
              "          const dataTable =\n",
              "            await google.colab.kernel.invokeFunction('convertToInteractive',\n",
              "                                                     [key], {});\n",
              "          if (!dataTable) return;\n",
              "\n",
              "          const docLinkHtml = 'Like what you see? Visit the ' +\n",
              "            '<a target=\"_blank\" href=https://colab.research.google.com/notebooks/data_table.ipynb>data table notebook</a>'\n",
              "            + ' to learn more about interactive tables.';\n",
              "          element.innerHTML = '';\n",
              "          dataTable['output_type'] = 'display_data';\n",
              "          await google.colab.output.renderOutput(dataTable, element);\n",
              "          const docLink = document.createElement('div');\n",
              "          docLink.innerHTML = docLinkHtml;\n",
              "          element.appendChild(docLink);\n",
              "        }\n",
              "      </script>\n",
              "    </div>\n",
              "  </div>\n",
              "  "
            ]
          },
          "metadata": {},
          "execution_count": 225
        }
      ]
    },
    {
      "cell_type": "code",
      "source": [
        "data.info()"
      ],
      "metadata": {
        "colab": {
          "base_uri": "https://localhost:8080/"
        },
        "id": "clmwKd2uWUmJ",
        "outputId": "99ad78af-713d-43d0-9af4-a351026e23f8"
      },
      "execution_count": 226,
      "outputs": [
        {
          "output_type": "stream",
          "name": "stdout",
          "text": [
            "<class 'pandas.core.frame.DataFrame'>\n",
            "Index: 270 entries, 2021-07-23 to 2022-08-23\n",
            "Data columns (total 14 columns):\n",
            " #   Column              Non-Null Count  Dtype  \n",
            "---  ------              --------------  -----  \n",
            " 0   Symbol              270 non-null    object \n",
            " 1   Series              270 non-null    object \n",
            " 2   Prev Close          270 non-null    float64\n",
            " 3   Open                270 non-null    float64\n",
            " 4   High                270 non-null    float64\n",
            " 5   Low                 270 non-null    float64\n",
            " 6   Last                270 non-null    float64\n",
            " 7   Close               270 non-null    float64\n",
            " 8   VWAP                270 non-null    float64\n",
            " 9   Volume              270 non-null    object \n",
            " 10  Turnover            270 non-null    float64\n",
            " 11  Trades              270 non-null    object \n",
            " 12  Deliverable Volume  270 non-null    object \n",
            " 13  %Deliverble         270 non-null    float64\n",
            "dtypes: float64(9), object(5)\n",
            "memory usage: 31.6+ KB\n"
          ]
        }
      ]
    },
    {
      "cell_type": "code",
      "source": [
        "data.describe()"
      ],
      "metadata": {
        "colab": {
          "base_uri": "https://localhost:8080/",
          "height": 300
        },
        "id": "Q1GdaQIjWW2o",
        "outputId": "5322b7c5-a82c-497d-eb74-e852b9610953"
      },
      "execution_count": 227,
      "outputs": [
        {
          "output_type": "execute_result",
          "data": {
            "text/plain": [
              "       Prev Close        Open        High         Low        Last       Close  \\\n",
              "count  270.000000  270.000000  270.000000  270.000000  270.000000  270.000000   \n",
              "mean   101.916481  102.431111  104.748148   99.467963  101.868333  101.873704   \n",
              "std     35.254637   35.446465   36.018898   34.576126   35.278931   35.293187   \n",
              "min     41.650000   40.850000   44.400000   40.600000   41.600000   41.650000   \n",
              "25%     69.512500   68.800000   70.862500   65.575000   68.962500   69.125000   \n",
              "50%     92.450000   93.975000   95.475000   90.700000   92.375000   92.450000   \n",
              "75%    135.950000  136.475000  138.900000  133.000000  136.187500  135.950000   \n",
              "max    160.300000  161.150000  169.000000  154.250000  161.200000  160.300000   \n",
              "\n",
              "             VWAP      Turnover  %Deliverble  \n",
              "count  270.000000  2.700000e+02   270.000000  \n",
              "mean   102.006667  5.264205e+14     0.333059  \n",
              "std     35.310998  7.860064e+14     0.132020  \n",
              "min     43.290000  5.375542e+13     0.079300  \n",
              "25%     68.540000  1.566895e+14     0.241075  \n",
              "50%     93.315000  2.632948e+14     0.323050  \n",
              "75%    136.277500  5.536027e+14     0.414825  \n",
              "max    161.420000  8.625275e+15     0.685400  "
            ],
            "text/html": [
              "\n",
              "  <div id=\"df-7b9e88b9-7d00-4982-af7b-14c736eff05d\">\n",
              "    <div class=\"colab-df-container\">\n",
              "      <div>\n",
              "<style scoped>\n",
              "    .dataframe tbody tr th:only-of-type {\n",
              "        vertical-align: middle;\n",
              "    }\n",
              "\n",
              "    .dataframe tbody tr th {\n",
              "        vertical-align: top;\n",
              "    }\n",
              "\n",
              "    .dataframe thead th {\n",
              "        text-align: right;\n",
              "    }\n",
              "</style>\n",
              "<table border=\"1\" class=\"dataframe\">\n",
              "  <thead>\n",
              "    <tr style=\"text-align: right;\">\n",
              "      <th></th>\n",
              "      <th>Prev Close</th>\n",
              "      <th>Open</th>\n",
              "      <th>High</th>\n",
              "      <th>Low</th>\n",
              "      <th>Last</th>\n",
              "      <th>Close</th>\n",
              "      <th>VWAP</th>\n",
              "      <th>Turnover</th>\n",
              "      <th>%Deliverble</th>\n",
              "    </tr>\n",
              "  </thead>\n",
              "  <tbody>\n",
              "    <tr>\n",
              "      <th>count</th>\n",
              "      <td>270.000000</td>\n",
              "      <td>270.000000</td>\n",
              "      <td>270.000000</td>\n",
              "      <td>270.000000</td>\n",
              "      <td>270.000000</td>\n",
              "      <td>270.000000</td>\n",
              "      <td>270.000000</td>\n",
              "      <td>2.700000e+02</td>\n",
              "      <td>270.000000</td>\n",
              "    </tr>\n",
              "    <tr>\n",
              "      <th>mean</th>\n",
              "      <td>101.916481</td>\n",
              "      <td>102.431111</td>\n",
              "      <td>104.748148</td>\n",
              "      <td>99.467963</td>\n",
              "      <td>101.868333</td>\n",
              "      <td>101.873704</td>\n",
              "      <td>102.006667</td>\n",
              "      <td>5.264205e+14</td>\n",
              "      <td>0.333059</td>\n",
              "    </tr>\n",
              "    <tr>\n",
              "      <th>std</th>\n",
              "      <td>35.254637</td>\n",
              "      <td>35.446465</td>\n",
              "      <td>36.018898</td>\n",
              "      <td>34.576126</td>\n",
              "      <td>35.278931</td>\n",
              "      <td>35.293187</td>\n",
              "      <td>35.310998</td>\n",
              "      <td>7.860064e+14</td>\n",
              "      <td>0.132020</td>\n",
              "    </tr>\n",
              "    <tr>\n",
              "      <th>min</th>\n",
              "      <td>41.650000</td>\n",
              "      <td>40.850000</td>\n",
              "      <td>44.400000</td>\n",
              "      <td>40.600000</td>\n",
              "      <td>41.600000</td>\n",
              "      <td>41.650000</td>\n",
              "      <td>43.290000</td>\n",
              "      <td>5.375542e+13</td>\n",
              "      <td>0.079300</td>\n",
              "    </tr>\n",
              "    <tr>\n",
              "      <th>25%</th>\n",
              "      <td>69.512500</td>\n",
              "      <td>68.800000</td>\n",
              "      <td>70.862500</td>\n",
              "      <td>65.575000</td>\n",
              "      <td>68.962500</td>\n",
              "      <td>69.125000</td>\n",
              "      <td>68.540000</td>\n",
              "      <td>1.566895e+14</td>\n",
              "      <td>0.241075</td>\n",
              "    </tr>\n",
              "    <tr>\n",
              "      <th>50%</th>\n",
              "      <td>92.450000</td>\n",
              "      <td>93.975000</td>\n",
              "      <td>95.475000</td>\n",
              "      <td>90.700000</td>\n",
              "      <td>92.375000</td>\n",
              "      <td>92.450000</td>\n",
              "      <td>93.315000</td>\n",
              "      <td>2.632948e+14</td>\n",
              "      <td>0.323050</td>\n",
              "    </tr>\n",
              "    <tr>\n",
              "      <th>75%</th>\n",
              "      <td>135.950000</td>\n",
              "      <td>136.475000</td>\n",
              "      <td>138.900000</td>\n",
              "      <td>133.000000</td>\n",
              "      <td>136.187500</td>\n",
              "      <td>135.950000</td>\n",
              "      <td>136.277500</td>\n",
              "      <td>5.536027e+14</td>\n",
              "      <td>0.414825</td>\n",
              "    </tr>\n",
              "    <tr>\n",
              "      <th>max</th>\n",
              "      <td>160.300000</td>\n",
              "      <td>161.150000</td>\n",
              "      <td>169.000000</td>\n",
              "      <td>154.250000</td>\n",
              "      <td>161.200000</td>\n",
              "      <td>160.300000</td>\n",
              "      <td>161.420000</td>\n",
              "      <td>8.625275e+15</td>\n",
              "      <td>0.685400</td>\n",
              "    </tr>\n",
              "  </tbody>\n",
              "</table>\n",
              "</div>\n",
              "      <button class=\"colab-df-convert\" onclick=\"convertToInteractive('df-7b9e88b9-7d00-4982-af7b-14c736eff05d')\"\n",
              "              title=\"Convert this dataframe to an interactive table.\"\n",
              "              style=\"display:none;\">\n",
              "        \n",
              "  <svg xmlns=\"http://www.w3.org/2000/svg\" height=\"24px\"viewBox=\"0 0 24 24\"\n",
              "       width=\"24px\">\n",
              "    <path d=\"M0 0h24v24H0V0z\" fill=\"none\"/>\n",
              "    <path d=\"M18.56 5.44l.94 2.06.94-2.06 2.06-.94-2.06-.94-.94-2.06-.94 2.06-2.06.94zm-11 1L8.5 8.5l.94-2.06 2.06-.94-2.06-.94L8.5 2.5l-.94 2.06-2.06.94zm10 10l.94 2.06.94-2.06 2.06-.94-2.06-.94-.94-2.06-.94 2.06-2.06.94z\"/><path d=\"M17.41 7.96l-1.37-1.37c-.4-.4-.92-.59-1.43-.59-.52 0-1.04.2-1.43.59L10.3 9.45l-7.72 7.72c-.78.78-.78 2.05 0 2.83L4 21.41c.39.39.9.59 1.41.59.51 0 1.02-.2 1.41-.59l7.78-7.78 2.81-2.81c.8-.78.8-2.07 0-2.86zM5.41 20L4 18.59l7.72-7.72 1.47 1.35L5.41 20z\"/>\n",
              "  </svg>\n",
              "      </button>\n",
              "      \n",
              "  <style>\n",
              "    .colab-df-container {\n",
              "      display:flex;\n",
              "      flex-wrap:wrap;\n",
              "      gap: 12px;\n",
              "    }\n",
              "\n",
              "    .colab-df-convert {\n",
              "      background-color: #E8F0FE;\n",
              "      border: none;\n",
              "      border-radius: 50%;\n",
              "      cursor: pointer;\n",
              "      display: none;\n",
              "      fill: #1967D2;\n",
              "      height: 32px;\n",
              "      padding: 0 0 0 0;\n",
              "      width: 32px;\n",
              "    }\n",
              "\n",
              "    .colab-df-convert:hover {\n",
              "      background-color: #E2EBFA;\n",
              "      box-shadow: 0px 1px 2px rgba(60, 64, 67, 0.3), 0px 1px 3px 1px rgba(60, 64, 67, 0.15);\n",
              "      fill: #174EA6;\n",
              "    }\n",
              "\n",
              "    [theme=dark] .colab-df-convert {\n",
              "      background-color: #3B4455;\n",
              "      fill: #D2E3FC;\n",
              "    }\n",
              "\n",
              "    [theme=dark] .colab-df-convert:hover {\n",
              "      background-color: #434B5C;\n",
              "      box-shadow: 0px 1px 3px 1px rgba(0, 0, 0, 0.15);\n",
              "      filter: drop-shadow(0px 1px 2px rgba(0, 0, 0, 0.3));\n",
              "      fill: #FFFFFF;\n",
              "    }\n",
              "  </style>\n",
              "\n",
              "      <script>\n",
              "        const buttonEl =\n",
              "          document.querySelector('#df-7b9e88b9-7d00-4982-af7b-14c736eff05d button.colab-df-convert');\n",
              "        buttonEl.style.display =\n",
              "          google.colab.kernel.accessAllowed ? 'block' : 'none';\n",
              "\n",
              "        async function convertToInteractive(key) {\n",
              "          const element = document.querySelector('#df-7b9e88b9-7d00-4982-af7b-14c736eff05d');\n",
              "          const dataTable =\n",
              "            await google.colab.kernel.invokeFunction('convertToInteractive',\n",
              "                                                     [key], {});\n",
              "          if (!dataTable) return;\n",
              "\n",
              "          const docLinkHtml = 'Like what you see? Visit the ' +\n",
              "            '<a target=\"_blank\" href=https://colab.research.google.com/notebooks/data_table.ipynb>data table notebook</a>'\n",
              "            + ' to learn more about interactive tables.';\n",
              "          element.innerHTML = '';\n",
              "          dataTable['output_type'] = 'display_data';\n",
              "          await google.colab.output.renderOutput(dataTable, element);\n",
              "          const docLink = document.createElement('div');\n",
              "          docLink.innerHTML = docLinkHtml;\n",
              "          element.appendChild(docLink);\n",
              "        }\n",
              "      </script>\n",
              "    </div>\n",
              "  </div>\n",
              "  "
            ]
          },
          "metadata": {},
          "execution_count": 227
        }
      ]
    },
    {
      "cell_type": "code",
      "source": [
        "data.nunique()"
      ],
      "metadata": {
        "colab": {
          "base_uri": "https://localhost:8080/"
        },
        "id": "LkpOgS7qWRuu",
        "outputId": "f9fd6d13-4764-400a-a987-ff70336464e4"
      },
      "execution_count": 228,
      "outputs": [
        {
          "output_type": "execute_result",
          "data": {
            "text/plain": [
              "Symbol                  1\n",
              "Series                  1\n",
              "Prev Close            245\n",
              "Open                  227\n",
              "High                  234\n",
              "Low                   226\n",
              "Last                  240\n",
              "Close                 244\n",
              "VWAP                  262\n",
              "Volume                270\n",
              "Turnover              270\n",
              "Trades                270\n",
              "Deliverable Volume    270\n",
              "%Deliverble           261\n",
              "dtype: int64"
            ]
          },
          "metadata": {},
          "execution_count": 228
        }
      ]
    },
    {
      "cell_type": "markdown",
      "source": [
        "# EDA"
      ],
      "metadata": {
        "id": "znf6GyWoWc_f"
      }
    },
    {
      "cell_type": "code",
      "source": [
        "corr_matrix = data.corr().abs()\n",
        "plt.figure(figsize=(5,5))\n",
        "ax = sns.heatmap(corr_matrix,annot=True)"
      ],
      "metadata": {
        "colab": {
          "base_uri": "https://localhost:8080/",
          "height": 374
        },
        "id": "xx1YguYAWtxh",
        "outputId": "a9be4366-85d4-4872-a705-8578fcfb6ebc"
      },
      "execution_count": 229,
      "outputs": [
        {
          "output_type": "display_data",
          "data": {
            "text/plain": [
              "<Figure size 360x360 with 2 Axes>"
            ],
            "image/png": "[encoded data removed]"
          },
          "metadata": {
            "needs_background": "light"
          }
        }
      ]
    },
    {
      "cell_type": "code",
      "source": [
        "plt.figure(figsize=(16,5))\n",
        "plt.plot(data.index, data.Close, color='tab:red')\n",
        "plt.gca().set(title='Close Price', xlabel='Date', ylabel='Closing Price')\n",
        "plt.show()"
      ],
      "metadata": {
        "id": "0mot3L9LP2fv",
        "colab": {
          "base_uri": "https://localhost:8080/",
          "height": 350
        },
        "outputId": "e4495d86-1ffb-4622-c490-756d4877fb9b"
      },
      "execution_count": 230,
      "outputs": [
        {
          "output_type": "display_data",
          "data": {
            "text/plain": [
              "<Figure size 1152x360 with 1 Axes>"
            ],
            "image/png": "[encoded data removed]"
          },
          "metadata": {
            "needs_background": "light"
          }
        }
      ]
    },
    {
      "cell_type": "code",
      "source": [
        "\n",
        "fig, ax = plt.subplots(figsize=(15,6))\n",
        "#ax.set_facecolor('#000041')\n",
        "ax.plot(data['High'], color='red', label='High')\n",
        "plt.plot(data['Low'], color='blue', label='Low')\n",
        "plt.gca().set(title='High and Low Share Price', xlabel='Date', ylabel='Share Price')\n",
        "plt.legend()\n",
        "plt.show()"
      ],
      "metadata": {
        "id": "VvzOx0QnXUsi",
        "colab": {
          "base_uri": "https://localhost:8080/",
          "height": 404
        },
        "outputId": "a8f31c92-aaf4-42f6-f105-22ba45350dd9"
      },
      "execution_count": 231,
      "outputs": [
        {
          "output_type": "display_data",
          "data": {
            "text/plain": [
              "<Figure size 1080x432 with 1 Axes>"
            ],
            "image/png": "[encoded data removed]"
          },
          "metadata": {
            "needs_background": "light"
          }
        }
      ]
    },
    {
      "cell_type": "code",
      "source": [
        "\n",
        "X=data.drop(labels=['Symbol','Series','Close','Volume','Turnover','%Deliverble','Trades','Deliverable Volume'], axis=1)\n",
        "y=data['Close']"
      ],
      "metadata": {
        "id": "lCW5bp2nZ91I"
      },
      "execution_count": 232,
      "outputs": []
    },
    {
      "cell_type": "code",
      "source": [
        "X"
      ],
      "metadata": {
        "colab": {
          "base_uri": "https://localhost:8080/",
          "height": 455
        },
        "id": "R1mYDEmrea5L",
        "outputId": "94370ab4-8b6d-4678-c573-8f4066860dc9"
      },
      "execution_count": 233,
      "outputs": [
        {
          "output_type": "execute_result",
          "data": {
            "text/plain": [
              "            Prev Close    Open    High     Low    Last    VWAP\n",
              "Date                                                          \n",
              "2021-07-23       76.00  116.00  138.90  115.00  125.30  124.12\n",
              "2021-07-26      126.00  126.35  143.75  125.30  138.05  134.63\n",
              "2021-07-27      140.65  141.70  147.80  127.75  130.65  141.09\n",
              "2021-07-28      132.90  131.00  135.00  123.55  133.00  127.90\n",
              "2021-07-29      131.20  134.95  144.00  132.20  142.25  137.73\n",
              "...                ...     ...     ...     ...     ...     ...\n",
              "2022-08-17       64.25   64.80   65.60   61.80   65.30   63.69\n",
              "2022-08-18       65.25   65.60   69.25   65.00   66.65   67.49\n",
              "2022-08-19       67.10   67.40   68.25   60.15   61.30   63.38\n",
              "2022-08-22       61.45   61.00   62.85   59.25   62.45   61.32\n",
              "2022-08-23       62.00   62.30   65.25   62.15   63.95   63.65\n",
              "\n",
              "[270 rows x 6 columns]"
            ],
            "text/html": [
              "\n",
              "  <div id=\"df-ae5b0dab-e2a5-4752-950a-7ea15987448d\">\n",
              "    <div class=\"colab-df-container\">\n",
              "      <div>\n",
              "<style scoped>\n",
              "    .dataframe tbody tr th:only-of-type {\n",
              "        vertical-align: middle;\n",
              "    }\n",
              "\n",
              "    .dataframe tbody tr th {\n",
              "        vertical-align: top;\n",
              "    }\n",
              "\n",
              "    .dataframe thead th {\n",
              "        text-align: right;\n",
              "    }\n",
              "</style>\n",
              "<table border=\"1\" class=\"dataframe\">\n",
              "  <thead>\n",
              "    <tr style=\"text-align: right;\">\n",
              "      <th></th>\n",
              "      <th>Prev Close</th>\n",
              "      <th>Open</th>\n",
              "      <th>High</th>\n",
              "      <th>Low</th>\n",
              "      <th>Last</th>\n",
              "      <th>VWAP</th>\n",
              "    </tr>\n",
              "    <tr>\n",
              "      <th>Date</th>\n",
              "      <th></th>\n",
              "      <th></th>\n",
              "      <th></th>\n",
              "      <th></th>\n",
              "      <th></th>\n",
              "      <th></th>\n",
              "    </tr>\n",
              "  </thead>\n",
              "  <tbody>\n",
              "    <tr>\n",
              "      <th>2021-07-23</th>\n",
              "      <td>76.00</td>\n",
              "      <td>116.00</td>\n",
              "      <td>138.90</td>\n",
              "      <td>115.00</td>\n",
              "      <td>125.30</td>\n",
              "      <td>124.12</td>\n",
              "    </tr>\n",
              "    <tr>\n",
              "      <th>2021-07-26</th>\n",
              "      <td>126.00</td>\n",
              "      <td>126.35</td>\n",
              "      <td>143.75</td>\n",
              "      <td>125.30</td>\n",
              "      <td>138.05</td>\n",
              "      <td>134.63</td>\n",
              "    </tr>\n",
              "    <tr>\n",
              "      <th>2021-07-27</th>\n",
              "      <td>140.65</td>\n",
              "      <td>141.70</td>\n",
              "      <td>147.80</td>\n",
              "      <td>127.75</td>\n",
              "      <td>130.65</td>\n",
              "      <td>141.09</td>\n",
              "    </tr>\n",
              "    <tr>\n",
              "      <th>2021-07-28</th>\n",
              "      <td>132.90</td>\n",
              "      <td>131.00</td>\n",
              "      <td>135.00</td>\n",
              "      <td>123.55</td>\n",
              "      <td>133.00</td>\n",
              "      <td>127.90</td>\n",
              "    </tr>\n",
              "    <tr>\n",
              "      <th>2021-07-29</th>\n",
              "      <td>131.20</td>\n",
              "      <td>134.95</td>\n",
              "      <td>144.00</td>\n",
              "      <td>132.20</td>\n",
              "      <td>142.25</td>\n",
              "      <td>137.73</td>\n",
              "    </tr>\n",
              "    <tr>\n",
              "      <th>...</th>\n",
              "      <td>...</td>\n",
              "      <td>...</td>\n",
              "      <td>...</td>\n",
              "      <td>...</td>\n",
              "      <td>...</td>\n",
              "      <td>...</td>\n",
              "    </tr>\n",
              "    <tr>\n",
              "      <th>2022-08-17</th>\n",
              "      <td>64.25</td>\n",
              "      <td>64.80</td>\n",
              "      <td>65.60</td>\n",
              "      <td>61.80</td>\n",
              "      <td>65.30</td>\n",
              "      <td>63.69</td>\n",
              "    </tr>\n",
              "    <tr>\n",
              "      <th>2022-08-18</th>\n",
              "      <td>65.25</td>\n",
              "      <td>65.60</td>\n",
              "      <td>69.25</td>\n",
              "      <td>65.00</td>\n",
              "      <td>66.65</td>\n",
              "      <td>67.49</td>\n",
              "    </tr>\n",
              "    <tr>\n",
              "      <th>2022-08-19</th>\n",
              "      <td>67.10</td>\n",
              "      <td>67.40</td>\n",
              "      <td>68.25</td>\n",
              "      <td>60.15</td>\n",
              "      <td>61.30</td>\n",
              "      <td>63.38</td>\n",
              "    </tr>\n",
              "    <tr>\n",
              "      <th>2022-08-22</th>\n",
              "      <td>61.45</td>\n",
              "      <td>61.00</td>\n",
              "      <td>62.85</td>\n",
              "      <td>59.25</td>\n",
              "      <td>62.45</td>\n",
              "      <td>61.32</td>\n",
              "    </tr>\n",
              "    <tr>\n",
              "      <th>2022-08-23</th>\n",
              "      <td>62.00</td>\n",
              "      <td>62.30</td>\n",
              "      <td>65.25</td>\n",
              "      <td>62.15</td>\n",
              "      <td>63.95</td>\n",
              "      <td>63.65</td>\n",
              "    </tr>\n",
              "  </tbody>\n",
              "</table>\n",
              "<p>270 rows × 6 columns</p>\n",
              "</div>\n",
              "      <button class=\"colab-df-convert\" onclick=\"convertToInteractive('df-ae5b0dab-e2a5-4752-950a-7ea15987448d')\"\n",
              "              title=\"Convert this dataframe to an interactive table.\"\n",
              "              style=\"display:none;\">\n",
              "        \n",
              "  <svg xmlns=\"http://www.w3.org/2000/svg\" height=\"24px\"viewBox=\"0 0 24 24\"\n",
              "       width=\"24px\">\n",
              "    <path d=\"M0 0h24v24H0V0z\" fill=\"none\"/>\n",
              "    <path d=\"M18.56 5.44l.94 2.06.94-2.06 2.06-.94-2.06-.94-.94-2.06-.94 2.06-2.06.94zm-11 1L8.5 8.5l.94-2.06 2.06-.94-2.06-.94L8.5 2.5l-.94 2.06-2.06.94zm10 10l.94 2.06.94-2.06 2.06-.94-2.06-.94-.94-2.06-.94 2.06-2.06.94z\"/><path d=\"M17.41 7.96l-1.37-1.37c-.4-.4-.92-.59-1.43-.59-.52 0-1.04.2-1.43.59L10.3 9.45l-7.72 7.72c-.78.78-.78 2.05 0 2.83L4 21.41c.39.39.9.59 1.41.59.51 0 1.02-.2 1.41-.59l7.78-7.78 2.81-2.81c.8-.78.8-2.07 0-2.86zM5.41 20L4 18.59l7.72-7.72 1.47 1.35L5.41 20z\"/>\n",
              "  </svg>\n",
              "      </button>\n",
              "      \n",
              "  <style>\n",
              "    .colab-df-container {\n",
              "      display:flex;\n",
              "      flex-wrap:wrap;\n",
              "      gap: 12px;\n",
              "    }\n",
              "\n",
              "    .colab-df-convert {\n",
              "      background-color: #E8F0FE;\n",
              "      border: none;\n",
              "      border-radius: 50%;\n",
              "      cursor: pointer;\n",
              "      display: none;\n",
              "      fill: #1967D2;\n",
              "      height: 32px;\n",
              "      padding: 0 0 0 0;\n",
              "      width: 32px;\n",
              "    }\n",
              "\n",
              "    .colab-df-convert:hover {\n",
              "      background-color: #E2EBFA;\n",
              "      box-shadow: 0px 1px 2px rgba(60, 64, 67, 0.3), 0px 1px 3px 1px rgba(60, 64, 67, 0.15);\n",
              "      fill: #174EA6;\n",
              "    }\n",
              "\n",
              "    [theme=dark] .colab-df-convert {\n",
              "      background-color: #3B4455;\n",
              "      fill: #D2E3FC;\n",
              "    }\n",
              "\n",
              "    [theme=dark] .colab-df-convert:hover {\n",
              "      background-color: #434B5C;\n",
              "      box-shadow: 0px 1px 3px 1px rgba(0, 0, 0, 0.15);\n",
              "      filter: drop-shadow(0px 1px 2px rgba(0, 0, 0, 0.3));\n",
              "      fill: #FFFFFF;\n",
              "    }\n",
              "  </style>\n",
              "\n",
              "      <script>\n",
              "        const buttonEl =\n",
              "          document.querySelector('#df-ae5b0dab-e2a5-4752-950a-7ea15987448d button.colab-df-convert');\n",
              "        buttonEl.style.display =\n",
              "          google.colab.kernel.accessAllowed ? 'block' : 'none';\n",
              "\n",
              "        async function convertToInteractive(key) {\n",
              "          const element = document.querySelector('#df-ae5b0dab-e2a5-4752-950a-7ea15987448d');\n",
              "          const dataTable =\n",
              "            await google.colab.kernel.invokeFunction('convertToInteractive',\n",
              "                                                     [key], {});\n",
              "          if (!dataTable) return;\n",
              "\n",
              "          const docLinkHtml = 'Like what you see? Visit the ' +\n",
              "            '<a target=\"_blank\" href=https://colab.research.google.com/notebooks/data_table.ipynb>data table notebook</a>'\n",
              "            + ' to learn more about interactive tables.';\n",
              "          element.innerHTML = '';\n",
              "          dataTable['output_type'] = 'display_data';\n",
              "          await google.colab.output.renderOutput(dataTable, element);\n",
              "          const docLink = document.createElement('div');\n",
              "          docLink.innerHTML = docLinkHtml;\n",
              "          element.appendChild(docLink);\n",
              "        }\n",
              "      </script>\n",
              "    </div>\n",
              "  </div>\n",
              "  "
            ]
          },
          "metadata": {},
          "execution_count": 233
        }
      ]
    },
    {
      "cell_type": "code",
      "source": [
        "from statsmodels.tsa.stattools import adfuller, kpss\n",
        "# ADF Test\n",
        "result = adfuller(data.Close.values, autolag='AIC')\n",
        "print(f'ADF Statistic: {result[0]}')\n",
        "print(f'p-value: {result[1]}')\n",
        "for key, value in result[4].items():\n",
        "    print('Critial Values:')\n",
        "    print(f'   {key}, {value}')\n",
        "\n",
        "# KPSS Test\n",
        "result = kpss(data.Close.values, regression='c')\n",
        "print('\\nKPSS Statistic: %f' % result[0])\n",
        "print('p-value: %f' % result[1])\n",
        "for key, value in result[3].items():\n",
        "    print('Critial Values:')\n",
        "    print(f'   {key}, {value}')"
      ],
      "metadata": {
        "id": "RKOO4dAifuG-",
        "colab": {
          "base_uri": "https://localhost:8080/"
        },
        "outputId": "bfaad086-9f21-4b58-b438-5d60fcd5926a"
      },
      "execution_count": 234,
      "outputs": [
        {
          "output_type": "stream",
          "name": "stdout",
          "text": [
            "ADF Statistic: -0.775149788823823\n",
            "p-value: 0.8263128782820943\n",
            "Critial Values:\n",
            "   1%, -3.4548957220044336\n",
            "Critial Values:\n",
            "   5%, -2.8723451788613157\n",
            "Critial Values:\n",
            "   10%, -2.572527778361272\n",
            "\n",
            "KPSS Statistic: 1.512275\n",
            "p-value: 0.010000\n",
            "Critial Values:\n",
            "   10%, 0.347\n",
            "Critial Values:\n",
            "   5%, 0.463\n",
            "Critial Values:\n",
            "   2.5%, 0.574\n",
            "Critial Values:\n",
            "   1%, 0.739\n"
          ]
        }
      ]
    },
    {
      "cell_type": "code",
      "source": [
        "from statsmodels.tsa.arima_model import ARIMA"
      ],
      "metadata": {
        "id": "n7d8EVT2s39m"
      },
      "execution_count": 235,
      "outputs": []
    },
    {
      "cell_type": "code",
      "source": [
        "split_fraction = 0.80\n",
        "train_split = int(split_fraction * int(data.shape[0]))\n",
        "train_split"
      ],
      "metadata": {
        "colab": {
          "base_uri": "https://localhost:8080/"
        },
        "id": "Nk1UhMGrIC_z",
        "outputId": "fb599edb-105c-463d-9233-ece74c0b3449"
      },
      "execution_count": 236,
      "outputs": [
        {
          "output_type": "execute_result",
          "data": {
            "text/plain": [
              "216"
            ]
          },
          "metadata": {},
          "execution_count": 236
        }
      ]
    },
    {
      "cell_type": "code",
      "source": [
        "x=data.drop(labels=['Symbol','Series','Close','Volume','Turnover','%Deliverble','Trades','Deliverable Volume'], axis=1)\n",
        "y=data['Close']\n",
        "x_train=x[:train_split-1]\n",
        "y_train=y[:train_split-1]\n",
        "x_test=x[train_split:]\n",
        "y_test=y[train_split:]"
      ],
      "metadata": {
        "id": "8SfOCmNrvO2Z"
      },
      "execution_count": 237,
      "outputs": []
    },
    {
      "cell_type": "code",
      "source": [
        "data1=data.drop(labels=['Symbol','Series','Volume','Turnover','%Deliverble','Trades','Deliverable Volume'], axis=1)\n",
        "train=data1.Close[:train_split-1]\n",
        "test=data1.Close[train_split:]"
      ],
      "metadata": {
        "id": "17O84NXbJxBq"
      },
      "execution_count": 238,
      "outputs": []
    },
    {
      "cell_type": "code",
      "source": [
        "train.shape, test.shape"
      ],
      "metadata": {
        "id": "ISJgEWMmLG_C",
        "outputId": "9e008cce-a0a2-4d63-c7be-bb13ac6d8e06",
        "colab": {
          "base_uri": "https://localhost:8080/"
        }
      },
      "execution_count": 239,
      "outputs": [
        {
          "output_type": "execute_result",
          "data": {
            "text/plain": [
              "((215,), (54,))"
            ]
          },
          "metadata": {},
          "execution_count": 239
        }
      ]
    },
    {
      "cell_type": "code",
      "source": [
        "model = ARIMA(train, order=(4, 2, 3))\n",
        "model_fit = model.fit(disp=0)\n",
        "print(model_fit.summary())"
      ],
      "metadata": {
        "colab": {
          "base_uri": "https://localhost:8080/"
        },
        "id": "4nzE2n-I5gYp",
        "outputId": "6f74bff9-9cfc-470f-9c59-99cd72a4c00d"
      },
      "execution_count": 240,
      "outputs": [
        {
          "output_type": "stream",
          "name": "stdout",
          "text": [
            "                             ARIMA Model Results                              \n",
            "==============================================================================\n",
            "Dep. Variable:               D2.Close   No. Observations:                  213\n",
            "Model:                 ARIMA(4, 2, 3)   Log Likelihood                -615.263\n",
            "Method:                       css-mle   S.D. of innovations              4.256\n",
            "Date:                Tue, 23 Aug 2022   AIC                           1248.526\n",
            "Time:                        14:52:25   BIC                           1278.778\n",
            "Sample:                             2   HQIC                          1260.752\n",
            "                                                                              \n",
            "==================================================================================\n",
            "                     coef    std err          z      P>|z|      [0.025      0.975]\n",
            "----------------------------------------------------------------------------------\n",
            "const             -0.0034      0.004     -0.803      0.422      -0.012       0.005\n",
            "ar.L1.D2.Close    -1.1187      0.074    -15.203      0.000      -1.263      -0.975\n",
            "ar.L2.D2.Close    -1.0893      0.104    -10.427      0.000      -1.294      -0.885\n",
            "ar.L3.D2.Close    -0.1408      0.107     -1.314      0.189      -0.351       0.069\n",
            "ar.L4.D2.Close    -0.0325      0.073     -0.447      0.655      -0.175       0.110\n",
            "ma.L1.D2.Close     0.0745      0.030      2.513      0.012       0.016       0.133\n",
            "ma.L2.D2.Close    -0.0748      0.030     -2.522      0.012      -0.133      -0.017\n",
            "ma.L3.D2.Close    -0.9997      0.029    -34.719      0.000      -1.056      -0.943\n",
            "                                    Roots                                    \n",
            "=============================================================================\n",
            "                  Real          Imaginary           Modulus         Frequency\n",
            "-----------------------------------------------------------------------------\n",
            "AR.1           -0.5343           -0.8813j            1.0307           -0.3367\n",
            "AR.2           -0.5343           +0.8813j            1.0307            0.3367\n",
            "AR.3           -1.6339           -5.1299j            5.3838           -0.2991\n",
            "AR.4           -1.6339           +5.1299j            5.3838            0.2991\n",
            "MA.1           -0.5374           -0.8435j            1.0001           -0.3403\n",
            "MA.2           -0.5374           +0.8435j            1.0001            0.3403\n",
            "MA.3            1.0000           -0.0000j            1.0000           -0.0000\n",
            "-----------------------------------------------------------------------------\n"
          ]
        }
      ]
    },
    {
      "cell_type": "code",
      "source": [
        "model = ARIMA(train, order=(5,1,2))\n",
        "model_fit = model.fit(disp=1)\n",
        "print(model_fit.summary())"
      ],
      "metadata": {
        "colab": {
          "base_uri": "https://localhost:8080/"
        },
        "id": "WL3jl5oYvHUG",
        "outputId": "4dc235f3-bfe3-4c0c-de5b-afc6ca35382c"
      },
      "execution_count": 241,
      "outputs": [
        {
          "output_type": "stream",
          "name": "stdout",
          "text": [
            "                             ARIMA Model Results                              \n",
            "==============================================================================\n",
            "Dep. Variable:                D.Close   No. Observations:                  214\n",
            "Model:                 ARIMA(5, 1, 2)   Log Likelihood                -616.031\n",
            "Method:                       css-mle   S.D. of innovations              4.277\n",
            "Date:                Tue, 23 Aug 2022   AIC                           1250.062\n",
            "Time:                        14:52:27   BIC                           1280.356\n",
            "Sample:                             1   HQIC                          1262.303\n",
            "                                                                              \n",
            "=================================================================================\n",
            "                    coef    std err          z      P>|z|      [0.025      0.975]\n",
            "---------------------------------------------------------------------------------\n",
            "const            -0.2559      0.275     -0.930      0.352      -0.795       0.283\n",
            "ar.L1.D.Close    -2.0126      0.070    -28.651      0.000      -2.150      -1.875\n",
            "ar.L2.D.Close    -1.1645      0.156     -7.461      0.000      -1.470      -0.859\n",
            "ar.L3.D.Close    -0.1378      0.175     -0.788      0.431      -0.481       0.205\n",
            "ar.L4.D.Close     0.0430      0.159      0.271      0.787      -0.268       0.355\n",
            "ar.L5.D.Close     0.0512      0.075      0.684      0.494      -0.095       0.198\n",
            "ma.L1.D.Close     1.9717      0.031     62.685      0.000       1.910       2.033\n",
            "ma.L2.D.Close     0.9982      0.032     31.420      0.000       0.936       1.061\n",
            "                                    Roots                                    \n",
            "=============================================================================\n",
            "                  Real          Imaginary           Modulus         Frequency\n",
            "-----------------------------------------------------------------------------\n",
            "AR.1           -1.0089           -0.1487j            1.0198           -0.4767\n",
            "AR.2           -1.0089           +0.1487j            1.0198            0.4767\n",
            "AR.3            3.3067           -0.0000j            3.3067           -0.0000\n",
            "AR.4           -1.0651           -2.1329j            2.3841           -0.3237\n",
            "AR.5           -1.0651           +2.1329j            2.3841            0.3237\n",
            "MA.1           -0.9876           -0.1626j            1.0009           -0.4740\n",
            "MA.2           -0.9876           +0.1626j            1.0009            0.4740\n",
            "-----------------------------------------------------------------------------\n"
          ]
        }
      ]
    },
    {
      "cell_type": "code",
      "source": [
        "step=int(test.shape[0])\n"
      ],
      "metadata": {
        "id": "fEXV0u2-GUfd"
      },
      "execution_count": 242,
      "outputs": []
    },
    {
      "cell_type": "code",
      "source": [
        ""
      ],
      "metadata": {
        "id": "HHs_N-gfKSBP"
      },
      "execution_count": 242,
      "outputs": []
    },
    {
      "cell_type": "code",
      "source": [
        "pred=model_fit.forecast(steps=step)[0]"
      ],
      "metadata": {
        "id": "9vQfCU0Uvkk4"
      },
      "execution_count": 243,
      "outputs": []
    },
    {
      "cell_type": "code",
      "source": [
        "Result=pd.DataFrame(columns=['Close','Predicted'])\n",
        "Result['Close']=test\n",
        "Result['Predicted']=pred\n"
      ],
      "metadata": {
        "id": "DHaShTNfFF5_"
      },
      "execution_count": 244,
      "outputs": []
    },
    {
      "cell_type": "code",
      "source": [
        "Result.head()"
      ],
      "metadata": {
        "colab": {
          "base_uri": "https://localhost:8080/",
          "height": 238
        },
        "id": "4B1kBSK2LqpV",
        "outputId": "e87c53cb-cb87-40d7-ee0a-dcaa9a648340"
      },
      "execution_count": 245,
      "outputs": [
        {
          "output_type": "execute_result",
          "data": {
            "text/plain": [
              "            Close  Predicted\n",
              "Date                        \n",
              "2022-06-07  65.40  71.791742\n",
              "2022-06-08  67.15  71.843824\n",
              "2022-06-09  68.70  70.932939\n",
              "2022-06-10  69.00  71.542882\n",
              "2022-06-13  67.50  70.283826"
            ],
            "text/html": [
              "\n",
              "  <div id=\"df-4ad44e22-fc9f-45dc-a9f2-a2ac46464023\">\n",
              "    <div class=\"colab-df-container\">\n",
              "      <div>\n",
              "<style scoped>\n",
              "    .dataframe tbody tr th:only-of-type {\n",
              "        vertical-align: middle;\n",
              "    }\n",
              "\n",
              "    .dataframe tbody tr th {\n",
              "        vertical-align: top;\n",
              "    }\n",
              "\n",
              "    .dataframe thead th {\n",
              "        text-align: right;\n",
              "    }\n",
              "</style>\n",
              "<table border=\"1\" class=\"dataframe\">\n",
              "  <thead>\n",
              "    <tr style=\"text-align: right;\">\n",
              "      <th></th>\n",
              "      <th>Close</th>\n",
              "      <th>Predicted</th>\n",
              "    </tr>\n",
              "    <tr>\n",
              "      <th>Date</th>\n",
              "      <th></th>\n",
              "      <th></th>\n",
              "    </tr>\n",
              "  </thead>\n",
              "  <tbody>\n",
              "    <tr>\n",
              "      <th>2022-06-07</th>\n",
              "      <td>65.40</td>\n",
              "      <td>71.791742</td>\n",
              "    </tr>\n",
              "    <tr>\n",
              "      <th>2022-06-08</th>\n",
              "      <td>67.15</td>\n",
              "      <td>71.843824</td>\n",
              "    </tr>\n",
              "    <tr>\n",
              "      <th>2022-06-09</th>\n",
              "      <td>68.70</td>\n",
              "      <td>70.932939</td>\n",
              "    </tr>\n",
              "    <tr>\n",
              "      <th>2022-06-10</th>\n",
              "      <td>69.00</td>\n",
              "      <td>71.542882</td>\n",
              "    </tr>\n",
              "    <tr>\n",
              "      <th>2022-06-13</th>\n",
              "      <td>67.50</td>\n",
              "      <td>70.283826</td>\n",
              "    </tr>\n",
              "  </tbody>\n",
              "</table>\n",
              "</div>\n",
              "      <button class=\"colab-df-convert\" onclick=\"convertToInteractive('df-4ad44e22-fc9f-45dc-a9f2-a2ac46464023')\"\n",
              "              title=\"Convert this dataframe to an interactive table.\"\n",
              "              style=\"display:none;\">\n",
              "        \n",
              "  <svg xmlns=\"http://www.w3.org/2000/svg\" height=\"24px\"viewBox=\"0 0 24 24\"\n",
              "       width=\"24px\">\n",
              "    <path d=\"M0 0h24v24H0V0z\" fill=\"none\"/>\n",
              "    <path d=\"M18.56 5.44l.94 2.06.94-2.06 2.06-.94-2.06-.94-.94-2.06-.94 2.06-2.06.94zm-11 1L8.5 8.5l.94-2.06 2.06-.94-2.06-.94L8.5 2.5l-.94 2.06-2.06.94zm10 10l.94 2.06.94-2.06 2.06-.94-2.06-.94-.94-2.06-.94 2.06-2.06.94z\"/><path d=\"M17.41 7.96l-1.37-1.37c-.4-.4-.92-.59-1.43-.59-.52 0-1.04.2-1.43.59L10.3 9.45l-7.72 7.72c-.78.78-.78 2.05 0 2.83L4 21.41c.39.39.9.59 1.41.59.51 0 1.02-.2 1.41-.59l7.78-7.78 2.81-2.81c.8-.78.8-2.07 0-2.86zM5.41 20L4 18.59l7.72-7.72 1.47 1.35L5.41 20z\"/>\n",
              "  </svg>\n",
              "      </button>\n",
              "      \n",
              "  <style>\n",
              "    .colab-df-container {\n",
              "      display:flex;\n",
              "      flex-wrap:wrap;\n",
              "      gap: 12px;\n",
              "    }\n",
              "\n",
              "    .colab-df-convert {\n",
              "      background-color: #E8F0FE;\n",
              "      border: none;\n",
              "      border-radius: 50%;\n",
              "      cursor: pointer;\n",
              "      display: none;\n",
              "      fill: #1967D2;\n",
              "      height: 32px;\n",
              "      padding: 0 0 0 0;\n",
              "      width: 32px;\n",
              "    }\n",
              "\n",
              "    .colab-df-convert:hover {\n",
              "      background-color: #E2EBFA;\n",
              "      box-shadow: 0px 1px 2px rgba(60, 64, 67, 0.3), 0px 1px 3px 1px rgba(60, 64, 67, 0.15);\n",
              "      fill: #174EA6;\n",
              "    }\n",
              "\n",
              "    [theme=dark] .colab-df-convert {\n",
              "      background-color: #3B4455;\n",
              "      fill: #D2E3FC;\n",
              "    }\n",
              "\n",
              "    [theme=dark] .colab-df-convert:hover {\n",
              "      background-color: #434B5C;\n",
              "      box-shadow: 0px 1px 3px 1px rgba(0, 0, 0, 0.15);\n",
              "      filter: drop-shadow(0px 1px 2px rgba(0, 0, 0, 0.3));\n",
              "      fill: #FFFFFF;\n",
              "    }\n",
              "  </style>\n",
              "\n",
              "      <script>\n",
              "        const buttonEl =\n",
              "          document.querySelector('#df-4ad44e22-fc9f-45dc-a9f2-a2ac46464023 button.colab-df-convert');\n",
              "        buttonEl.style.display =\n",
              "          google.colab.kernel.accessAllowed ? 'block' : 'none';\n",
              "\n",
              "        async function convertToInteractive(key) {\n",
              "          const element = document.querySelector('#df-4ad44e22-fc9f-45dc-a9f2-a2ac46464023');\n",
              "          const dataTable =\n",
              "            await google.colab.kernel.invokeFunction('convertToInteractive',\n",
              "                                                     [key], {});\n",
              "          if (!dataTable) return;\n",
              "\n",
              "          const docLinkHtml = 'Like what you see? Visit the ' +\n",
              "            '<a target=\"_blank\" href=https://colab.research.google.com/notebooks/data_table.ipynb>data table notebook</a>'\n",
              "            + ' to learn more about interactive tables.';\n",
              "          element.innerHTML = '';\n",
              "          dataTable['output_type'] = 'display_data';\n",
              "          await google.colab.output.renderOutput(dataTable, element);\n",
              "          const docLink = document.createElement('div');\n",
              "          docLink.innerHTML = docLinkHtml;\n",
              "          element.appendChild(docLink);\n",
              "        }\n",
              "      </script>\n",
              "    </div>\n",
              "  </div>\n",
              "  "
            ]
          },
          "metadata": {},
          "execution_count": 245
        }
      ]
    },
    {
      "cell_type": "code",
      "source": [
        "model_fit.aic"
      ],
      "metadata": {
        "id": "RzuNmgrpvqp0",
        "colab": {
          "base_uri": "https://localhost:8080/"
        },
        "outputId": "301c645e-bd72-4edf-d626-c889110344e3"
      },
      "execution_count": 246,
      "outputs": [
        {
          "output_type": "execute_result",
          "data": {
            "text/plain": [
              "1250.061833832699"
            ]
          },
          "metadata": {},
          "execution_count": 246
        }
      ]
    },
    {
      "cell_type": "code",
      "source": [
        "Result.plot(figsize=(15,6))"
      ],
      "metadata": {
        "id": "qQ0lKew1yE3q",
        "colab": {
          "base_uri": "https://localhost:8080/",
          "height": 406
        },
        "outputId": "1db39df8-d281-4f65-d0be-3258e092d987"
      },
      "execution_count": 247,
      "outputs": [
        {
          "output_type": "execute_result",
          "data": {
            "text/plain": [
              "<matplotlib.axes._subplots.AxesSubplot at 0x7f78f5ec7850>"
            ]
          },
          "metadata": {},
          "execution_count": 247
        },
        {
          "output_type": "display_data",
          "data": {
            "text/plain": [
              "<Figure size 1080x432 with 1 Axes>"
            ],
            "image/png": "[encoded data removed]"
          },
          "metadata": {
            "needs_background": "light"
          }
        }
      ]
    },
    {
      "cell_type": "code",
      "source": [
        "import numpy as np\n",
        "#Mean Absolute Percentage Error \n",
        "mape = np.mean(np.abs(pred - test)/np.abs(test))\n",
        "print(\"Mean Absolute Percentage Error \",mape)\n",
        "print('Accuracy =',100-mape)"
      ],
      "metadata": {
        "id": "eIS4fqoTyVvK",
        "colab": {
          "base_uri": "https://localhost:8080/"
        },
        "outputId": "44ddd9e0-72de-47f9-dca3-102da913a5f3"
      },
      "execution_count": 248,
      "outputs": [
        {
          "output_type": "stream",
          "name": "stdout",
          "text": [
            "Mean Absolute Percentage Error  0.13995698716005653\n",
            "Accuracy = 99.86004301283994\n"
          ]
        }
      ]
    },
    {
      "cell_type": "code",
      "source": [
        "x_train, x_test = np.array(range(train.shape[0])), np.array(range(train.shape[0], data.shape[0]-1))\n",
        "train.shape, x_train.shape, test.shape, x_test.shape"
      ],
      "metadata": {
        "colab": {
          "base_uri": "https://localhost:8080/"
        },
        "id": "OIKr_IXxGppg",
        "outputId": "68a90553-bef4-4434-e917-47507de05133"
      },
      "execution_count": 253,
      "outputs": [
        {
          "output_type": "execute_result",
          "data": {
            "text/plain": [
              "((215,), (215,), (54,), (54,))"
            ]
          },
          "metadata": {},
          "execution_count": 253
        }
      ]
    },
    {
      "cell_type": "code",
      "source": [
        "fig, ax = plt.subplots(1, 1, figsize=(15, 5))\n",
        "ax.plot(x_train, train)\n",
        "\n",
        "ax.plot(x_test, test)"
      ],
      "metadata": {
        "colab": {
          "base_uri": "https://localhost:8080/",
          "height": 338
        },
        "id": "PMIRfnN8L-FB",
        "outputId": "d9b03870-5dd8-4646-b095-2697cd51f2dc"
      },
      "execution_count": 267,
      "outputs": [
        {
          "output_type": "execute_result",
          "data": {
            "text/plain": [
              "[<matplotlib.lines.Line2D at 0x7f78fa2f2d90>]"
            ]
          },
          "metadata": {},
          "execution_count": 267
        },
        {
          "output_type": "display_data",
          "data": {
            "text/plain": [
              "<Figure size 1080x360 with 1 Axes>"
            ],
            "image/png": "[encoded data removed]"
          },
          "metadata": {
            "needs_background": "light"
          }
        }
      ]
    }
  ]
}