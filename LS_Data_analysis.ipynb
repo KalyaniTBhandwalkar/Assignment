{
  "nbformat": 4,
  "nbformat_minor": 0,
  "metadata": {
    "colab": {
      "name": "LS_Data_analysis.ipynb",
      "provenance": [],
      "collapsed_sections": [],
      "authorship_tag": "ABX9TyMwKrbASx5WC6SweuF9h2YK",
      "include_colab_link": true
    },
    "kernelspec": {
      "name": "python3",
      "display_name": "Python 3"
    },
    "language_info": {
      "name": "python"
    }
  },
  "cells": [
    {
      "cell_type": "markdown",
      "metadata": {
        "id": "view-in-github",
        "colab_type": "text"
      },
      "source": [
        "<a href=\"https://colab.research.google.com/github/KalyaniTBhandwalkar/Assignment/blob/main/LS_Data_analysis.ipynb\" target=\"_parent\"><img src=\"https://colab.research.google.com/assets/colab-badge.svg\" alt=\"Open In Colab\"/></a>"
      ]
    },
    {
      "cell_type": "code",
      "source": [
        "# Run the code to install DataPrep\n",
        "!pip install dataprep"
      ],
      "metadata": {
        "id": "SCt8tQ1nH7ql"
      },
      "execution_count": null,
      "outputs": []
    },
    {
      "cell_type": "code",
      "source": [
        "from dataprep.eda import plot, plot_correlation, plot_missing"
      ],
      "metadata": {
        "id": "JnoCvurFIC1S"
      },
      "execution_count": null,
      "outputs": []
    },
    {
      "cell_type": "code",
      "execution_count": null,
      "metadata": {
        "id": "Dr5IZdr1_HUZ"
      },
      "outputs": [],
      "source": [
        "import pandas as pd\n",
        "import numpy as np\n",
        "import datetime\n",
        "import matplotlib.pyplot as plt\n",
        "import seaborn as sns\n",
        "from sklearn import preprocessing"
      ]
    },
    {
      "cell_type": "code",
      "source": [
        "df=pd.read_csv(\"/content/LS_2.0_(2).csv\" )"
      ],
      "metadata": {
        "id": "5EqgX7bGAfIk"
      },
      "execution_count": null,
      "outputs": []
    },
    {
      "cell_type": "code",
      "source": [
        "df.head(2)"
      ],
      "metadata": {
        "id": "UZjPPtNHA2xV"
      },
      "execution_count": null,
      "outputs": []
    },
    {
      "cell_type": "code",
      "source": [
        "df.describe()"
      ],
      "metadata": {
        "id": "7w99MTSlA32E"
      },
      "execution_count": null,
      "outputs": []
    },
    {
      "cell_type": "code",
      "source": [
        "df.info()"
      ],
      "metadata": {
        "id": "fLHSPDKEA9BK"
      },
      "execution_count": null,
      "outputs": []
    },
    {
      "cell_type": "code",
      "source": [
        "df.shape"
      ],
      "metadata": {
        "id": "4kWer00NA88C"
      },
      "execution_count": null,
      "outputs": []
    },
    {
      "cell_type": "code",
      "source": [
        "df['STATE'].unique().shape"
      ],
      "metadata": {
        "id": "RmK28E2J-WU0"
      },
      "execution_count": null,
      "outputs": []
    },
    {
      "cell_type": "code",
      "source": [
        "pd. set_option('display.max_columns', None) # or 1000.\n",
        "pd. set_option('display.max_rows', None) # or 1000\n",
        "null_values = df.isnull().sum()\n",
        "print(null_values)\n",
        "null_values.shape"
      ],
      "metadata": {
        "id": "XFeJ6Jx8BCxx"
      },
      "execution_count": null,
      "outputs": []
    },
    {
      "cell_type": "markdown",
      "source": [
        "##EDA"
      ],
      "metadata": {
        "id": "r5Zs8-eJBuAu"
      }
    },
    {
      "cell_type": "code",
      "source": [
        "df.hist(figsize=(20,20),bins=10)\n",
        "plt.show()"
      ],
      "metadata": {
        "id": "IotS3titBUmj"
      },
      "execution_count": null,
      "outputs": []
    },
    {
      "cell_type": "code",
      "source": [
        "corr_matrix = df.corr().abs()\n",
        "plt.figure(figsize=(8,10))\n",
        "ax = sns.heatmap(corr_matrix,annot=True)"
      ],
      "metadata": {
        "id": "0IP2N4kvDaWf"
      },
      "execution_count": null,
      "outputs": []
    },
    {
      "cell_type": "code",
      "source": [
        "Course  = df.GENDER.value_counts()\n",
        "sns.set_style(\"darkgrid\")\n",
        "plt.figure(figsize=(10,4))\n",
        "sns.barplot(x=Course.index, y=Course .values)\n",
        "plt.title('Gender Percentage', fontsize = 20)\n",
        "plt.xlabel('Gender')\n",
        "\n",
        "plt.ylabel('Count')\n",
        "\n",
        "\n",
        "plt.show()\n",
        "print(Course)"
      ],
      "metadata": {
        "id": "IstoNyqKoW88"
      },
      "execution_count": null,
      "outputs": []
    },
    {
      "cell_type": "code",
      "source": [
        "plot(df)"
      ],
      "metadata": {
        "id": "1ciDcyDXDx4K"
      },
      "execution_count": null,
      "outputs": []
    },
    {
      "cell_type": "code",
      "source": [
        "df1=df.loc[df['WINNER'] == 1]\n",
        "def target_col(PARTY):\n",
        "    if df1.PARTY.value_counts()<=9:\n",
        "      df1.PARTY=\"OTHER\"\n"
      ],
      "metadata": {
        "id": "qEMiVP7gHiaC"
      },
      "execution_count": null,
      "outputs": []
    },
    {
      "cell_type": "code",
      "source": [
        "df1.head(2)"
      ],
      "metadata": {
        "id": "y0SH18vMLc9Q"
      },
      "execution_count": null,
      "outputs": []
    },
    {
      "cell_type": "code",
      "source": [
        "corr_matrix = df1.corr().abs()\n",
        "plt.figure(figsize=(8,10))\n",
        "ax = sns.heatmap(corr_matrix,annot=True)"
      ],
      "metadata": {
        "id": "Hc85281dSkoy"
      },
      "execution_count": null,
      "outputs": []
    },
    {
      "cell_type": "code",
      "source": [
        "Course  = df1.GENDER.value_counts()\n",
        "sns.set_style(\"darkgrid\")\n",
        "plt.figure(figsize=(10,4))\n",
        "sns.barplot(x=Course.index, y=Course .values)\n",
        "plt.title('Gender Percentage', fontsize = 20)\n",
        "plt.xlabel('Gender')\n",
        "\n",
        "plt.ylabel('Count')\n",
        "\n",
        "\n",
        "plt.show()\n",
        "print(Course)"
      ],
      "metadata": {
        "id": "gwCAcKAVzQZs"
      },
      "execution_count": null,
      "outputs": []
    },
    {
      "cell_type": "code",
      "source": [
        ""
      ],
      "metadata": {
        "id": "Ru09UtI62KOk"
      },
      "execution_count": null,
      "outputs": []
    }
  ]
}